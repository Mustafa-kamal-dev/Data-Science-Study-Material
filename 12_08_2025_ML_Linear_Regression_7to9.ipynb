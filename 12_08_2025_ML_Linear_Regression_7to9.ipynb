{
  "nbformat": 4,
  "nbformat_minor": 0,
  "metadata": {
    "colab": {
      "provenance": []
    },
    "kernelspec": {
      "name": "python3",
      "display_name": "Python 3"
    },
    "language_info": {
      "name": "python"
    }
  },
  "cells": [
    {
      "cell_type": "code",
      "execution_count": 1,
      "metadata": {
        "colab": {
          "base_uri": "https://localhost:8080/",
          "height": 87
        },
        "id": "_fv_8bUXAIbu",
        "outputId": "0d8f8d0d-783f-49b2-ccf2-496b8071ad45"
      },
      "outputs": [
        {
          "output_type": "execute_result",
          "data": {
            "text/plain": [
              "\"\\nRECAP:\\nCorrelation\\nScatter Plots\\nBest-fit line\\nHow to find the best-fit line mathematically\\n\\nLinear Regression \\n\\nEquation: y = B0 + B1x + E\\n\\ny= Predicted value\\nx = independent variable\\nB0 = intercept (value of y when x=0) - starting salary of fresh grad \\nB1 = slope/gradient (change in y for one unit change in x) - yearly increment\\nE  = error term (what our model could not capture) - company politics/inflation\\n\\nHow the model learns the line:\\nMacine uses Ordinary Least Squares (OLS) to minimize the sum of squared errors\\nWhy squared? It ensures errors don't cancel out (positive and negative)\\n\""
            ],
            "application/vnd.google.colaboratory.intrinsic+json": {
              "type": "string"
            }
          },
          "metadata": {},
          "execution_count": 1
        }
      ],
      "source": [
        "'''\n",
        "RECAP:\n",
        "Correlation\n",
        "Scatter Plots\n",
        "Best-fit line\n",
        "How to find the best-fit line mathematically\n",
        "\n",
        "Linear Regression\n",
        "\n",
        "Equation: y = B0 + B1x + E\n",
        "\n",
        "y= Predicted value\n",
        "x = independent variable\n",
        "B0 = intercept (value of y when x=0) - starting salary of fresh grad\n",
        "B1 = slope/gradient (change in y for one unit change in x) - yearly increment\n",
        "E  = error term (what our model could not capture) - company politics/inflation\n",
        "\n",
        "How the model learns the line:\n",
        "Macine uses Ordinary Least Squares (OLS) to minimize the sum of squared errors\n",
        "Why squared? It ensures errors don't cancel out (positive and negative)\n",
        "'''"
      ]
    },
    {
      "cell_type": "code",
      "source": [
        "import numpy as np\n",
        "import matplotlib.pyplot as plt\n",
        "from sklearn.linear_model import LinearRegression"
      ],
      "metadata": {
        "id": "0jEyJWrhAWjA"
      },
      "execution_count": 2,
      "outputs": []
    },
    {
      "cell_type": "code",
      "source": [
        "#Example dataset\n",
        "x = np.array([1,2,3,4,5]).reshape(-1,1) # what does reshape (-1,1) do???\n",
        "y = np.array ([3,4,2,5,6])\n",
        "\n",
        "#Train model\n",
        "model = LinearRegression()\n",
        "model.fit(x,y)\n",
        "\n",
        "print(\"Intercept B0:\", model.intercept_)\n",
        "print(\"Slope/Gradient(B1):\",model.coef_)"
      ],
      "metadata": {
        "colab": {
          "base_uri": "https://localhost:8080/"
        },
        "id": "Vl9aFL8DAY3x",
        "outputId": "74ffbf2a-a130-49c4-92f8-a22d648434fc"
      },
      "execution_count": 3,
      "outputs": [
        {
          "output_type": "stream",
          "name": "stdout",
          "text": [
            "Intercept B0: 1.9000000000000004\n",
            "Slope/Gradient(B1): [0.7]\n"
          ]
        }
      ]
    },
    {
      "cell_type": "code",
      "source": [
        "#Predictions\n",
        "y_pred = model.predict(x)\n",
        "\n",
        "#plot\n",
        "plt.scatter(x,y,color='blue')\n",
        "plt.plot(x,y_pred, color='red')\n",
        "plt.title(\"Simple linear regression\")\n",
        "plt.show()"
      ],
      "metadata": {
        "colab": {
          "base_uri": "https://localhost:8080/",
          "height": 452
        },
        "id": "_FkHyci3AayX",
        "outputId": "4afbe1ab-9cef-49d7-8f24-2c2e42758cd7"
      },
      "execution_count": 4,
      "outputs": [
        {
          "output_type": "display_data",
          "data": {
            "text/plain": [
              "<Figure size 640x480 with 1 Axes>"
            ],
            "image/png": "[encoded data removed]"
          },
          "metadata": {}
        }
      ]
    },
    {
      "cell_type": "code",
      "source": [],
      "metadata": {
        "id": "rnWH7437Adzt"
      },
      "execution_count": null,
      "outputs": []
    }
  ]
}