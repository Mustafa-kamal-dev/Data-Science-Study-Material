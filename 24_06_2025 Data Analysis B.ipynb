{
 "cells": [
  {
   "cell_type": "code",
   "execution_count": 411,
   "metadata": {
    "executionInfo": {
     "elapsed": 1000,
     "status": "ok",
     "timestamp": 1750782743536,
     "user": {
      "displayName": "Mirza Anas Masood Baig",
      "userId": "16421231184284517890"
     },
     "user_tz": -300
    },
    "id": "2uyHCnDiq4tA"
   },
   "outputs": [],
   "source": [
    "import pandas as pd \n",
    "\n",
    "df = pd.read_excel('employee.xlsx')"
   ]
  },
  {
   "cell_type": "code",
   "execution_count": 412,
   "metadata": {},
   "outputs": [
    {
     "data": {
      "text/html": [
       "<div>\n",
       "<style scoped>\n",
       "    .dataframe tbody tr th:only-of-type {\n",
       "        vertical-align: middle;\n",
       "    }\n",
       "\n",
       "    .dataframe tbody tr th {\n",
       "        vertical-align: top;\n",
       "    }\n",
       "\n",
       "    .dataframe thead th {\n",
       "        text-align: right;\n",
       "    }\n",
       "</style>\n",
       "<table border=\"1\" class=\"dataframe\">\n",
       "  <thead>\n",
       "    <tr style=\"text-align: right;\">\n",
       "      <th></th>\n",
       "      <th>Serial</th>\n",
       "      <th>Emp_ID</th>\n",
       "      <th>Designation</th>\n",
       "      <th>Department</th>\n",
       "      <th>Age</th>\n",
       "      <th>Salary</th>\n",
       "    </tr>\n",
       "  </thead>\n",
       "  <tbody>\n",
       "    <tr>\n",
       "      <th>0</th>\n",
       "      <td>1</td>\n",
       "      <td>1101</td>\n",
       "      <td>Manager</td>\n",
       "      <td>Accounts</td>\n",
       "      <td>50.0</td>\n",
       "      <td>200000.0</td>\n",
       "    </tr>\n",
       "    <tr>\n",
       "      <th>1</th>\n",
       "      <td>2</td>\n",
       "      <td>1107</td>\n",
       "      <td>Officer</td>\n",
       "      <td>IT</td>\n",
       "      <td>30.0</td>\n",
       "      <td>80000.0</td>\n",
       "    </tr>\n",
       "    <tr>\n",
       "      <th>2</th>\n",
       "      <td>3</td>\n",
       "      <td>1203</td>\n",
       "      <td>Officer</td>\n",
       "      <td>HR</td>\n",
       "      <td>28.0</td>\n",
       "      <td>NaN</td>\n",
       "    </tr>\n",
       "    <tr>\n",
       "      <th>3</th>\n",
       "      <td>4</td>\n",
       "      <td>1005</td>\n",
       "      <td>Manager</td>\n",
       "      <td>HR</td>\n",
       "      <td>45.0</td>\n",
       "      <td>120000.0</td>\n",
       "    </tr>\n",
       "    <tr>\n",
       "      <th>4</th>\n",
       "      <td>5</td>\n",
       "      <td>2123</td>\n",
       "      <td>Office Boy</td>\n",
       "      <td>Accounts</td>\n",
       "      <td>27.0</td>\n",
       "      <td>45000.0</td>\n",
       "    </tr>\n",
       "    <tr>\n",
       "      <th>5</th>\n",
       "      <td>6</td>\n",
       "      <td>2451</td>\n",
       "      <td>Accountant</td>\n",
       "      <td>NaN</td>\n",
       "      <td>34.0</td>\n",
       "      <td>100000.0</td>\n",
       "    </tr>\n",
       "    <tr>\n",
       "      <th>6</th>\n",
       "      <td>7</td>\n",
       "      <td>1111</td>\n",
       "      <td>Accountant</td>\n",
       "      <td>Accounts</td>\n",
       "      <td>NaN</td>\n",
       "      <td>110000.0</td>\n",
       "    </tr>\n",
       "    <tr>\n",
       "      <th>7</th>\n",
       "      <td>8</td>\n",
       "      <td>1001</td>\n",
       "      <td>Officer</td>\n",
       "      <td>IT</td>\n",
       "      <td>25.0</td>\n",
       "      <td>75000.0</td>\n",
       "    </tr>\n",
       "    <tr>\n",
       "      <th>8</th>\n",
       "      <td>9</td>\n",
       "      <td>1234</td>\n",
       "      <td>Manager</td>\n",
       "      <td>IT</td>\n",
       "      <td>23.0</td>\n",
       "      <td>NaN</td>\n",
       "    </tr>\n",
       "    <tr>\n",
       "      <th>9</th>\n",
       "      <td>10</td>\n",
       "      <td>2156</td>\n",
       "      <td>Engineer</td>\n",
       "      <td>Production</td>\n",
       "      <td>45.0</td>\n",
       "      <td>89000.0</td>\n",
       "    </tr>\n",
       "    <tr>\n",
       "      <th>10</th>\n",
       "      <td>11</td>\n",
       "      <td>6543</td>\n",
       "      <td>Officer</td>\n",
       "      <td>Production</td>\n",
       "      <td>29.0</td>\n",
       "      <td>100000.0</td>\n",
       "    </tr>\n",
       "    <tr>\n",
       "      <th>11</th>\n",
       "      <td>12</td>\n",
       "      <td>3214</td>\n",
       "      <td>Accountant</td>\n",
       "      <td>Account</td>\n",
       "      <td>49.0</td>\n",
       "      <td>123000.0</td>\n",
       "    </tr>\n",
       "    <tr>\n",
       "      <th>12</th>\n",
       "      <td>13</td>\n",
       "      <td>2156</td>\n",
       "      <td>Engineer</td>\n",
       "      <td>Production</td>\n",
       "      <td>45.0</td>\n",
       "      <td>89000.0</td>\n",
       "    </tr>\n",
       "    <tr>\n",
       "      <th>13</th>\n",
       "      <td>14</td>\n",
       "      <td>1098</td>\n",
       "      <td>Officer</td>\n",
       "      <td>IT</td>\n",
       "      <td>25.0</td>\n",
       "      <td>100000.0</td>\n",
       "    </tr>\n",
       "    <tr>\n",
       "      <th>14</th>\n",
       "      <td>15</td>\n",
       "      <td>2912</td>\n",
       "      <td>Officer</td>\n",
       "      <td>IT</td>\n",
       "      <td>31.0</td>\n",
       "      <td>90000.0</td>\n",
       "    </tr>\n",
       "    <tr>\n",
       "      <th>15</th>\n",
       "      <td>16</td>\n",
       "      <td>1222</td>\n",
       "      <td>Officer</td>\n",
       "      <td>NaN</td>\n",
       "      <td>25.0</td>\n",
       "      <td>NaN</td>\n",
       "    </tr>\n",
       "    <tr>\n",
       "      <th>16</th>\n",
       "      <td>17</td>\n",
       "      <td>2156</td>\n",
       "      <td>Engineer</td>\n",
       "      <td>Production</td>\n",
       "      <td>45.0</td>\n",
       "      <td>89000.0</td>\n",
       "    </tr>\n",
       "    <tr>\n",
       "      <th>17</th>\n",
       "      <td>18</td>\n",
       "      <td>2123</td>\n",
       "      <td>Office Boy</td>\n",
       "      <td>Accounts</td>\n",
       "      <td>27.0</td>\n",
       "      <td>45000.0</td>\n",
       "    </tr>\n",
       "  </tbody>\n",
       "</table>\n",
       "</div>"
      ],
      "text/plain": [
       "    Serial  Emp_ID Designation  Department   Age    Salary\n",
       "0        1    1101     Manager    Accounts  50.0  200000.0\n",
       "1        2    1107     Officer          IT  30.0   80000.0\n",
       "2        3    1203     Officer          HR  28.0       NaN\n",
       "3        4    1005     Manager          HR  45.0  120000.0\n",
       "4        5    2123  Office Boy    Accounts  27.0   45000.0\n",
       "5        6    2451  Accountant         NaN  34.0  100000.0\n",
       "6        7    1111  Accountant    Accounts   NaN  110000.0\n",
       "7        8    1001     Officer          IT  25.0   75000.0\n",
       "8        9    1234     Manager          IT  23.0       NaN\n",
       "9       10    2156    Engineer  Production  45.0   89000.0\n",
       "10      11    6543     Officer  Production  29.0  100000.0\n",
       "11      12    3214  Accountant     Account  49.0  123000.0\n",
       "12      13    2156    Engineer  Production  45.0   89000.0\n",
       "13      14    1098     Officer          IT  25.0  100000.0\n",
       "14      15    2912     Officer          IT  31.0   90000.0\n",
       "15      16    1222     Officer         NaN  25.0       NaN\n",
       "16      17    2156    Engineer  Production  45.0   89000.0\n",
       "17      18    2123  Office Boy    Accounts  27.0   45000.0"
      ]
     },
     "execution_count": 412,
     "metadata": {},
     "output_type": "execute_result"
    }
   ],
   "source": [
    "df"
   ]
  },
  {
   "cell_type": "code",
   "execution_count": 413,
   "metadata": {
    "colab": {
     "base_uri": "https://localhost:8080/",
     "height": 428
    },
    "executionInfo": {
     "elapsed": 1659,
     "status": "ok",
     "timestamp": 1750782775461,
     "user": {
      "displayName": "Mirza Anas Masood Baig",
      "userId": "16421231184284517890"
     },
     "user_tz": -300
    },
    "id": "hN9SlRR-yI6n",
    "outputId": "a9ae7bc6-a678-46ab-cf41-d31d08ee28e6"
   },
   "outputs": [
    {
     "data": {
      "text/plain": [
       "<Axes: ylabel='Salary'>"
      ]
     },
     "execution_count": 413,
     "metadata": {},
     "output_type": "execute_result"
    },
    {
     "data": {
      "image/png": "[encoded data removed]",
      "text/plain": [
       "<Figure size 640x480 with 1 Axes>"
      ]
     },
     "metadata": {},
     "output_type": "display_data"
    }
   ],
   "source": [
    "import seaborn as sns \n",
    "\n",
    "sns.barplot(df.Salary)"
   ]
  },
  {
   "cell_type": "code",
   "execution_count": 414,
   "metadata": {
    "colab": {
     "base_uri": "https://localhost:8080/",
     "height": 428
    },
    "executionInfo": {
     "elapsed": 655,
     "status": "ok",
     "timestamp": 1750782903469,
     "user": {
      "displayName": "Mirza Anas Masood Baig",
      "userId": "16421231184284517890"
     },
     "user_tz": -300
    },
    "id": "gU9l24ARyQkq",
    "outputId": "98abe97a-fe7b-432c-c909-c252c879f2a1"
   },
   "outputs": [
    {
     "data": {
      "text/plain": [
       "<Axes: ylabel='Age'>"
      ]
     },
     "execution_count": 414,
     "metadata": {},
     "output_type": "execute_result"
    },
    {
     "data": {
      "image/png": "[encoded data removed]",
      "text/plain": [
       "<Figure size 640x480 with 1 Axes>"
      ]
     },
     "metadata": {},
     "output_type": "display_data"
    }
   ],
   "source": [
    "sns.boxplot(df.Age)"
   ]
  },
  {
   "cell_type": "code",
   "execution_count": 415,
   "metadata": {
    "executionInfo": {
     "elapsed": 78,
     "status": "ok",
     "timestamp": 1750783190195,
     "user": {
      "displayName": "Mirza Anas Masood Baig",
      "userId": "16421231184284517890"
     },
     "user_tz": -300
    },
    "id": "8bTmvW90ywEE"
   },
   "outputs": [],
   "source": [
    "import numpy as np\n",
    "\n",
    "def remove_outliers(s):\n",
    "    q1 = np.percentile(s,25)\n",
    "    q3 = np.percentile(s,75)\n",
    "\n",
    "\n",
    "    iqr = q3 - q1\n",
    "\n",
    "    lf = q1 - 1.5 * iqr\n",
    "    uf = q3 + 1.5 * iqr\n",
    "\n",
    "    return lf , uf\n",
    "\n",
    "    "
   ]
  },
  {
   "cell_type": "code",
   "execution_count": 416,
   "metadata": {
    "executionInfo": {
     "elapsed": 37,
     "status": "ok",
     "timestamp": 1750783266108,
     "user": {
      "displayName": "Mirza Anas Masood Baig",
      "userId": "16421231184284517890"
     },
     "user_tz": -300
    },
    "id": "RkDla4yWz2Nj"
   },
   "outputs": [],
   "source": [
    "lf , uf = remove_outliers(df.Salary)"
   ]
  },
  {
   "cell_type": "code",
   "execution_count": 417,
   "metadata": {
    "colab": {
     "base_uri": "https://localhost:8080/"
    },
    "executionInfo": {
     "elapsed": 62,
     "status": "ok",
     "timestamp": 1750783270634,
     "user": {
      "displayName": "Mirza Anas Masood Baig",
      "userId": "16421231184284517890"
     },
     "user_tz": -300
    },
    "id": "1yTWZR9w0Ivn",
    "outputId": "4ffe6f1a-91df-404d-d52b-3a1550e6688b"
   },
   "outputs": [
    {
     "data": {
      "text/plain": [
       "np.float64(nan)"
      ]
     },
     "execution_count": 417,
     "metadata": {},
     "output_type": "execute_result"
    }
   ],
   "source": [
    "lf"
   ]
  },
  {
   "cell_type": "code",
   "execution_count": 418,
   "metadata": {
    "colab": {
     "base_uri": "https://localhost:8080/"
    },
    "executionInfo": {
     "elapsed": 32,
     "status": "ok",
     "timestamp": 1750783279226,
     "user": {
      "displayName": "Mirza Anas Masood Baig",
      "userId": "16421231184284517890"
     },
     "user_tz": -300
    },
    "id": "4HTdaQmt0J2S",
    "outputId": "be1c264f-2eea-4dd9-eff4-6df120b1f8bf"
   },
   "outputs": [
    {
     "data": {
      "text/plain": [
       "np.float64(nan)"
      ]
     },
     "execution_count": 418,
     "metadata": {},
     "output_type": "execute_result"
    }
   ],
   "source": [
    "uf"
   ]
  },
  {
   "cell_type": "code",
   "execution_count": 419,
   "metadata": {
    "colab": {
     "base_uri": "https://localhost:8080/",
     "height": 272
    },
    "executionInfo": {
     "elapsed": 70,
     "status": "ok",
     "timestamp": 1750783497027,
     "user": {
      "displayName": "Mirza Anas Masood Baig",
      "userId": "16421231184284517890"
     },
     "user_tz": -300
    },
    "id": "M_7Yxb2_0L6D",
    "outputId": "8b593691-9fe8-4665-d58f-fc8c73110a2b"
   },
   "outputs": [
    {
     "data": {
      "text/plain": [
       "Serial         0\n",
       "Emp_ID         0\n",
       "Designation    0\n",
       "Department     2\n",
       "Age            1\n",
       "Salary         3\n",
       "dtype: int64"
      ]
     },
     "execution_count": 419,
     "metadata": {},
     "output_type": "execute_result"
    }
   ],
   "source": [
    "df.isna().sum()"
   ]
  },
  {
   "cell_type": "code",
   "execution_count": 420,
   "metadata": {
    "executionInfo": {
     "elapsed": 68,
     "status": "ok",
     "timestamp": 1750783694281,
     "user": {
      "displayName": "Mirza Anas Masood Baig",
      "userId": "16421231184284517890"
     },
     "user_tz": -300
    },
    "id": "9FVFXlsi1BHq"
   },
   "outputs": [],
   "source": [
    "df.fillna({'Department' : df.Department.mode()[0],\n",
    "           'Age' :df.Age.mean(),\n",
    "           'Salary' :df.Salary.median()\n",
    "           \n",
    "           \n",
    "           }, inplace=True)"
   ]
  },
  {
   "cell_type": "code",
   "execution_count": 421,
   "metadata": {
    "colab": {
     "base_uri": "https://localhost:8080/",
     "height": 272
    },
    "executionInfo": {
     "elapsed": 35,
     "status": "ok",
     "timestamp": 1750783710812,
     "user": {
      "displayName": "Mirza Anas Masood Baig",
      "userId": "16421231184284517890"
     },
     "user_tz": -300
    },
    "id": "uHMH5GTJ1xSC",
    "outputId": "ba7af0a9-eb34-4144-9d26-5706fbcd57b4"
   },
   "outputs": [
    {
     "data": {
      "text/plain": [
       "Serial         0\n",
       "Emp_ID         0\n",
       "Designation    0\n",
       "Department     0\n",
       "Age            0\n",
       "Salary         0\n",
       "dtype: int64"
      ]
     },
     "execution_count": 421,
     "metadata": {},
     "output_type": "execute_result"
    }
   ],
   "source": [
    "df.isna().sum()"
   ]
  },
  {
   "cell_type": "code",
   "execution_count": 444,
   "metadata": {
    "executionInfo": {
     "elapsed": 18,
     "status": "ok",
     "timestamp": 1750783751041,
     "user": {
      "displayName": "Mirza Anas Masood Baig",
      "userId": "16421231184284517890"
     },
     "user_tz": -300
    },
    "id": "Mz5w8yv111UF"
   },
   "outputs": [],
   "source": [
    "lf,uf = remove_outliers(df.Salary)"
   ]
  },
  {
   "cell_type": "code",
   "execution_count": 445,
   "metadata": {
    "colab": {
     "base_uri": "https://localhost:8080/"
    },
    "executionInfo": {
     "elapsed": 40,
     "status": "ok",
     "timestamp": 1750783767190,
     "user": {
      "displayName": "Mirza Anas Masood Baig",
      "userId": "16421231184284517890"
     },
     "user_tz": -300
    },
    "id": "77fPrT8Y1_Jv",
    "outputId": "22bb98f6-a63a-4e56-c9d7-a31f89e62737"
   },
   "outputs": [
    {
     "data": {
      "text/plain": [
       "np.float64(72500.0)"
      ]
     },
     "execution_count": 445,
     "metadata": {},
     "output_type": "execute_result"
    }
   ],
   "source": [
    "lf"
   ]
  },
  {
   "cell_type": "code",
   "execution_count": 446,
   "metadata": {
    "colab": {
     "base_uri": "https://localhost:8080/"
    },
    "executionInfo": {
     "elapsed": 68,
     "status": "ok",
     "timestamp": 1750783784385,
     "user": {
      "displayName": "Mirza Anas Masood Baig",
      "userId": "16421231184284517890"
     },
     "user_tz": -300
    },
    "id": "GnEVdopC2DD-",
    "outputId": "cd32b852-c025-40b3-b52e-e6ffa5d88b42"
   },
   "outputs": [
    {
     "data": {
      "text/plain": [
       "np.float64(116500.0)"
      ]
     },
     "execution_count": 446,
     "metadata": {},
     "output_type": "execute_result"
    }
   ],
   "source": [
    "uf"
   ]
  },
  {
   "cell_type": "code",
   "execution_count": 454,
   "metadata": {
    "colab": {
     "base_uri": "https://localhost:8080/",
     "height": 206
    },
    "executionInfo": {
     "elapsed": 135,
     "status": "ok",
     "timestamp": 1750783973011,
     "user": {
      "displayName": "Mirza Anas Masood Baig",
      "userId": "16421231184284517890"
     },
     "user_tz": -300
    },
    "id": "kqRZpWuz2HPR",
    "outputId": "c9247d3a-d150-45ec-e41b-de8f7c4045df"
   },
   "outputs": [
    {
     "data": {
      "text/html": [
       "<div>\n",
       "<style scoped>\n",
       "    .dataframe tbody tr th:only-of-type {\n",
       "        vertical-align: middle;\n",
       "    }\n",
       "\n",
       "    .dataframe tbody tr th {\n",
       "        vertical-align: top;\n",
       "    }\n",
       "\n",
       "    .dataframe thead th {\n",
       "        text-align: right;\n",
       "    }\n",
       "</style>\n",
       "<table border=\"1\" class=\"dataframe\">\n",
       "  <thead>\n",
       "    <tr style=\"text-align: right;\">\n",
       "      <th></th>\n",
       "      <th>Serial</th>\n",
       "      <th>Emp_ID</th>\n",
       "      <th>Designation</th>\n",
       "      <th>Department</th>\n",
       "      <th>Age</th>\n",
       "      <th>Salary</th>\n",
       "    </tr>\n",
       "  </thead>\n",
       "  <tbody>\n",
       "    <tr>\n",
       "      <th>0</th>\n",
       "      <td>1</td>\n",
       "      <td>1101</td>\n",
       "      <td>Manager</td>\n",
       "      <td>Accounts</td>\n",
       "      <td>50.0</td>\n",
       "      <td>200000.0</td>\n",
       "    </tr>\n",
       "    <tr>\n",
       "      <th>3</th>\n",
       "      <td>4</td>\n",
       "      <td>1005</td>\n",
       "      <td>Manager</td>\n",
       "      <td>HR</td>\n",
       "      <td>45.0</td>\n",
       "      <td>120000.0</td>\n",
       "    </tr>\n",
       "    <tr>\n",
       "      <th>4</th>\n",
       "      <td>5</td>\n",
       "      <td>2123</td>\n",
       "      <td>Office Boy</td>\n",
       "      <td>Accounts</td>\n",
       "      <td>27.0</td>\n",
       "      <td>45000.0</td>\n",
       "    </tr>\n",
       "    <tr>\n",
       "      <th>11</th>\n",
       "      <td>12</td>\n",
       "      <td>3214</td>\n",
       "      <td>Accountant</td>\n",
       "      <td>Account</td>\n",
       "      <td>49.0</td>\n",
       "      <td>123000.0</td>\n",
       "    </tr>\n",
       "    <tr>\n",
       "      <th>17</th>\n",
       "      <td>18</td>\n",
       "      <td>2123</td>\n",
       "      <td>Office Boy</td>\n",
       "      <td>Accounts</td>\n",
       "      <td>27.0</td>\n",
       "      <td>45000.0</td>\n",
       "    </tr>\n",
       "  </tbody>\n",
       "</table>\n",
       "</div>"
      ],
      "text/plain": [
       "    Serial  Emp_ID Designation Department   Age    Salary\n",
       "0        1    1101     Manager   Accounts  50.0  200000.0\n",
       "3        4    1005     Manager         HR  45.0  120000.0\n",
       "4        5    2123  Office Boy   Accounts  27.0   45000.0\n",
       "11      12    3214  Accountant    Account  49.0  123000.0\n",
       "17      18    2123  Office Boy   Accounts  27.0   45000.0"
      ]
     },
     "execution_count": 454,
     "metadata": {},
     "output_type": "execute_result"
    }
   ],
   "source": [
    "df[(df.Salary < lf) | (df.Salary > uf)]"
   ]
  },
  {
   "cell_type": "code",
   "execution_count": 455,
   "metadata": {
    "colab": {
     "base_uri": "https://localhost:8080/",
     "height": 428
    },
    "executionInfo": {
     "elapsed": 278,
     "status": "ok",
     "timestamp": 1750783990303,
     "user": {
      "displayName": "Mirza Anas Masood Baig",
      "userId": "16421231184284517890"
     },
     "user_tz": -300
    },
    "id": "ybo5y9tL21UD",
    "outputId": "78d9d046-41bf-4639-c0a2-699dc91c044e"
   },
   "outputs": [
    {
     "data": {
      "text/plain": [
       "<Axes: ylabel='Salary'>"
      ]
     },
     "execution_count": 455,
     "metadata": {},
     "output_type": "execute_result"
    },
    {
     "data": {
      "image/png": "[encoded data removed]",
      "text/plain": [
       "<Figure size 640x480 with 1 Axes>"
      ]
     },
     "metadata": {},
     "output_type": "display_data"
    }
   ],
   "source": [
    "sns.boxplot(df.Salary)"
   ]
  },
  {
   "cell_type": "code",
   "execution_count": 427,
   "metadata": {
    "colab": {
     "base_uri": "https://localhost:8080/",
     "height": 649
    },
    "executionInfo": {
     "elapsed": 35,
     "status": "ok",
     "timestamp": 1750784226892,
     "user": {
      "displayName": "Mirza Anas Masood Baig",
      "userId": "16421231184284517890"
     },
     "user_tz": -300
    },
    "id": "dDzTi3k825f0",
    "outputId": "26633e1f-cdf5-4b7b-c564-c8d07f52aa8b"
   },
   "outputs": [
    {
     "data": {
      "text/plain": [
       "0     200000.0\n",
       "1      80000.0\n",
       "2      90000.0\n",
       "3     120000.0\n",
       "4      45000.0\n",
       "5     100000.0\n",
       "6     110000.0\n",
       "7      75000.0\n",
       "8      90000.0\n",
       "9      89000.0\n",
       "10    100000.0\n",
       "11    123000.0\n",
       "12     89000.0\n",
       "13    100000.0\n",
       "14     90000.0\n",
       "15     90000.0\n",
       "16     89000.0\n",
       "17     45000.0\n",
       "Name: Salary, dtype: float64"
      ]
     },
     "execution_count": 427,
     "metadata": {},
     "output_type": "execute_result"
    }
   ],
   "source": [
    "df.Salary"
   ]
  },
  {
   "cell_type": "code",
   "execution_count": 428,
   "metadata": {
    "executionInfo": {
     "elapsed": 81,
     "status": "ok",
     "timestamp": 1750784982628,
     "user": {
      "displayName": "Mirza Anas Masood Baig",
      "userId": "16421231184284517890"
     },
     "user_tz": -300
    },
    "id": "Cd9FH7Br3zSf"
   },
   "outputs": [],
   "source": [
    "df2 = df[(df.Salary >= lf) & (df.Salary <= uf)]"
   ]
  },
  {
   "cell_type": "code",
   "execution_count": 429,
   "metadata": {
    "colab": {
     "base_uri": "https://localhost:8080/",
     "height": 428
    },
    "executionInfo": {
     "elapsed": 143,
     "status": "ok",
     "timestamp": 1750785090803,
     "user": {
      "displayName": "Mirza Anas Masood Baig",
      "userId": "16421231184284517890"
     },
     "user_tz": -300
    },
    "id": "YAMie-eh6lIc",
    "outputId": "f1ef1caf-fa6c-4ab4-f39d-924dc2583217"
   },
   "outputs": [
    {
     "data": {
      "text/plain": [
       "<Axes: ylabel='Salary'>"
      ]
     },
     "execution_count": 429,
     "metadata": {},
     "output_type": "execute_result"
    },
    {
     "data": {
      "image/png": "[encoded data removed]",
      "text/plain": [
       "<Figure size 640x480 with 1 Axes>"
      ]
     },
     "metadata": {},
     "output_type": "display_data"
    }
   ],
   "source": [
    "sns.boxplot(df2.Salary)"
   ]
  },
  {
   "cell_type": "code",
   "execution_count": 430,
   "metadata": {
    "colab": {
     "base_uri": "https://localhost:8080/"
    },
    "executionInfo": {
     "elapsed": 80,
     "status": "ok",
     "timestamp": 1750785187041,
     "user": {
      "displayName": "Mirza Anas Masood Baig",
      "userId": "16421231184284517890"
     },
     "user_tz": -300
    },
    "id": "Qj9BV9xI7EOQ",
    "outputId": "f9a50497-a2ee-474b-a756-d860d223c355"
   },
   "outputs": [
    {
     "name": "stdout",
     "output_type": "stream",
     "text": [
      "          Serial       Emp_ID        Age         Salary\n",
      "count  18.000000    18.000000  18.000000      18.000000\n",
      "mean    9.500000  1995.333333  34.294118   95833.333333\n",
      "std     5.338539  1334.508369   9.429395   33036.966817\n",
      "min     1.000000  1001.000000  23.000000   45000.000000\n",
      "25%     5.250000  1108.000000  27.000000   89000.000000\n",
      "50%     9.500000  1678.500000  30.500000   90000.000000\n",
      "75%    13.750000  2156.000000  45.000000  100000.000000\n",
      "max    18.000000  6543.000000  50.000000  200000.000000\n"
     ]
    }
   ],
   "source": [
    "print(df.describe())\n"
   ]
  },
  {
   "cell_type": "code",
   "execution_count": 431,
   "metadata": {},
   "outputs": [
    {
     "name": "stdout",
     "output_type": "stream",
     "text": [
      "          Serial       Emp_ID        Age         Salary\n",
      "count  13.000000    13.000000  13.000000      13.000000\n",
      "mean   10.076923  2026.923077  32.253394   91692.307692\n",
      "std     4.821161  1499.005307   8.028222    9086.479107\n",
      "min     2.000000  1001.000000  23.000000   75000.000000\n",
      "25%     7.000000  1111.000000  25.000000   89000.000000\n",
      "50%    10.000000  1234.000000  30.000000   90000.000000\n",
      "75%    14.000000  2156.000000  34.294118  100000.000000\n",
      "max    17.000000  6543.000000  45.000000  110000.000000\n"
     ]
    }
   ],
   "source": [
    "print(df2.describe())"
   ]
  },
  {
   "cell_type": "code",
   "execution_count": 432,
   "metadata": {
    "colab": {
     "base_uri": "https://localhost:8080/",
     "height": 466
    },
    "executionInfo": {
     "elapsed": 563,
     "status": "ok",
     "timestamp": 1750785497529,
     "user": {
      "displayName": "Mirza Anas Masood Baig",
      "userId": "16421231184284517890"
     },
     "user_tz": -300
    },
    "id": "j9nO_Pad7duB",
    "outputId": "44bf321f-60e5-49c7-fdac-7f861ce0e93d"
   },
   "outputs": [
    {
     "data": {
      "text/plain": [
       "<Axes: xlabel='Designation', ylabel='Salary'>"
      ]
     },
     "execution_count": 432,
     "metadata": {},
     "output_type": "execute_result"
    },
    {
     "data": {
      "image/png": "[encoded data removed]",
      "text/plain": [
       "<Figure size 640x480 with 1 Axes>"
      ]
     },
     "metadata": {},
     "output_type": "display_data"
    }
   ],
   "source": [
    "sns.boxplot(data=df2, x='Designation', y='Salary')"
   ]
  },
  {
   "cell_type": "code",
   "execution_count": 433,
   "metadata": {
    "colab": {
     "base_uri": "https://localhost:8080/",
     "height": 457
    },
    "executionInfo": {
     "elapsed": 94,
     "status": "ok",
     "timestamp": 1750785669125,
     "user": {
      "displayName": "Mirza Anas Masood Baig",
      "userId": "16421231184284517890"
     },
     "user_tz": -300
    },
    "id": "WRpaMoX_8kZW",
    "outputId": "47ac38df-f780-47ee-9d36-11d950aaa95a"
   },
   "outputs": [
    {
     "data": {
      "text/html": [
       "<div>\n",
       "<style scoped>\n",
       "    .dataframe tbody tr th:only-of-type {\n",
       "        vertical-align: middle;\n",
       "    }\n",
       "\n",
       "    .dataframe tbody tr th {\n",
       "        vertical-align: top;\n",
       "    }\n",
       "\n",
       "    .dataframe thead th {\n",
       "        text-align: right;\n",
       "    }\n",
       "</style>\n",
       "<table border=\"1\" class=\"dataframe\">\n",
       "  <thead>\n",
       "    <tr style=\"text-align: right;\">\n",
       "      <th></th>\n",
       "      <th>Serial</th>\n",
       "      <th>Emp_ID</th>\n",
       "      <th>Designation</th>\n",
       "      <th>Department</th>\n",
       "      <th>Age</th>\n",
       "      <th>Salary</th>\n",
       "    </tr>\n",
       "  </thead>\n",
       "  <tbody>\n",
       "    <tr>\n",
       "      <th>1</th>\n",
       "      <td>2</td>\n",
       "      <td>1107</td>\n",
       "      <td>Officer</td>\n",
       "      <td>IT</td>\n",
       "      <td>30.000000</td>\n",
       "      <td>80000.0</td>\n",
       "    </tr>\n",
       "    <tr>\n",
       "      <th>2</th>\n",
       "      <td>3</td>\n",
       "      <td>1203</td>\n",
       "      <td>Officer</td>\n",
       "      <td>HR</td>\n",
       "      <td>28.000000</td>\n",
       "      <td>90000.0</td>\n",
       "    </tr>\n",
       "    <tr>\n",
       "      <th>5</th>\n",
       "      <td>6</td>\n",
       "      <td>2451</td>\n",
       "      <td>Accountant</td>\n",
       "      <td>IT</td>\n",
       "      <td>34.000000</td>\n",
       "      <td>100000.0</td>\n",
       "    </tr>\n",
       "    <tr>\n",
       "      <th>6</th>\n",
       "      <td>7</td>\n",
       "      <td>1111</td>\n",
       "      <td>Accountant</td>\n",
       "      <td>Accounts</td>\n",
       "      <td>34.294118</td>\n",
       "      <td>110000.0</td>\n",
       "    </tr>\n",
       "    <tr>\n",
       "      <th>7</th>\n",
       "      <td>8</td>\n",
       "      <td>1001</td>\n",
       "      <td>Officer</td>\n",
       "      <td>IT</td>\n",
       "      <td>25.000000</td>\n",
       "      <td>75000.0</td>\n",
       "    </tr>\n",
       "    <tr>\n",
       "      <th>8</th>\n",
       "      <td>9</td>\n",
       "      <td>1234</td>\n",
       "      <td>Manager</td>\n",
       "      <td>IT</td>\n",
       "      <td>23.000000</td>\n",
       "      <td>90000.0</td>\n",
       "    </tr>\n",
       "    <tr>\n",
       "      <th>9</th>\n",
       "      <td>10</td>\n",
       "      <td>2156</td>\n",
       "      <td>Engineer</td>\n",
       "      <td>Production</td>\n",
       "      <td>45.000000</td>\n",
       "      <td>89000.0</td>\n",
       "    </tr>\n",
       "    <tr>\n",
       "      <th>10</th>\n",
       "      <td>11</td>\n",
       "      <td>6543</td>\n",
       "      <td>Officer</td>\n",
       "      <td>Production</td>\n",
       "      <td>29.000000</td>\n",
       "      <td>100000.0</td>\n",
       "    </tr>\n",
       "    <tr>\n",
       "      <th>12</th>\n",
       "      <td>13</td>\n",
       "      <td>2156</td>\n",
       "      <td>Engineer</td>\n",
       "      <td>Production</td>\n",
       "      <td>45.000000</td>\n",
       "      <td>89000.0</td>\n",
       "    </tr>\n",
       "    <tr>\n",
       "      <th>13</th>\n",
       "      <td>14</td>\n",
       "      <td>1098</td>\n",
       "      <td>Officer</td>\n",
       "      <td>IT</td>\n",
       "      <td>25.000000</td>\n",
       "      <td>100000.0</td>\n",
       "    </tr>\n",
       "    <tr>\n",
       "      <th>14</th>\n",
       "      <td>15</td>\n",
       "      <td>2912</td>\n",
       "      <td>Officer</td>\n",
       "      <td>IT</td>\n",
       "      <td>31.000000</td>\n",
       "      <td>90000.0</td>\n",
       "    </tr>\n",
       "    <tr>\n",
       "      <th>15</th>\n",
       "      <td>16</td>\n",
       "      <td>1222</td>\n",
       "      <td>Officer</td>\n",
       "      <td>IT</td>\n",
       "      <td>25.000000</td>\n",
       "      <td>90000.0</td>\n",
       "    </tr>\n",
       "    <tr>\n",
       "      <th>16</th>\n",
       "      <td>17</td>\n",
       "      <td>2156</td>\n",
       "      <td>Engineer</td>\n",
       "      <td>Production</td>\n",
       "      <td>45.000000</td>\n",
       "      <td>89000.0</td>\n",
       "    </tr>\n",
       "  </tbody>\n",
       "</table>\n",
       "</div>"
      ],
      "text/plain": [
       "    Serial  Emp_ID Designation  Department        Age    Salary\n",
       "1        2    1107     Officer          IT  30.000000   80000.0\n",
       "2        3    1203     Officer          HR  28.000000   90000.0\n",
       "5        6    2451  Accountant          IT  34.000000  100000.0\n",
       "6        7    1111  Accountant    Accounts  34.294118  110000.0\n",
       "7        8    1001     Officer          IT  25.000000   75000.0\n",
       "8        9    1234     Manager          IT  23.000000   90000.0\n",
       "9       10    2156    Engineer  Production  45.000000   89000.0\n",
       "10      11    6543     Officer  Production  29.000000  100000.0\n",
       "12      13    2156    Engineer  Production  45.000000   89000.0\n",
       "13      14    1098     Officer          IT  25.000000  100000.0\n",
       "14      15    2912     Officer          IT  31.000000   90000.0\n",
       "15      16    1222     Officer          IT  25.000000   90000.0\n",
       "16      17    2156    Engineer  Production  45.000000   89000.0"
      ]
     },
     "execution_count": 433,
     "metadata": {},
     "output_type": "execute_result"
    }
   ],
   "source": [
    "df2"
   ]
  },
  {
   "cell_type": "code",
   "execution_count": 434,
   "metadata": {
    "colab": {
     "base_uri": "https://localhost:8080/",
     "height": 466
    },
    "executionInfo": {
     "elapsed": 456,
     "status": "ok",
     "timestamp": 1750785823270,
     "user": {
      "displayName": "Mirza Anas Masood Baig",
      "userId": "16421231184284517890"
     },
     "user_tz": -300
    },
    "id": "yajmTsPM9TYu",
    "outputId": "a84b2eb5-f13e-4f51-f296-1fd97b9a9335"
   },
   "outputs": [
    {
     "data": {
      "text/plain": [
       "<Axes: xlabel='Department', ylabel='Salary'>"
      ]
     },
     "execution_count": 434,
     "metadata": {},
     "output_type": "execute_result"
    },
    {
     "data": {
      "image/png": "[encoded data removed]",
      "text/plain": [
       "<Figure size 640x480 with 1 Axes>"
      ]
     },
     "metadata": {},
     "output_type": "display_data"
    }
   ],
   "source": [
    "sns.boxplot(data=df2, x='Department', y='Salary')"
   ]
  },
  {
   "cell_type": "code",
   "execution_count": 435,
   "metadata": {
    "colab": {
     "base_uri": "https://localhost:8080/",
     "height": 143
    },
    "executionInfo": {
     "elapsed": 101,
     "status": "ok",
     "timestamp": 1750786239433,
     "user": {
      "displayName": "Mirza Anas Masood Baig",
      "userId": "16421231184284517890"
     },
     "user_tz": -300
    },
    "id": "D1wVPXFQ948q",
    "outputId": "37cfc6cd-867b-4675-bd34-f525cac0614e"
   },
   "outputs": [
    {
     "data": {
      "text/html": [
       "<div>\n",
       "<style scoped>\n",
       "    .dataframe tbody tr th:only-of-type {\n",
       "        vertical-align: middle;\n",
       "    }\n",
       "\n",
       "    .dataframe tbody tr th {\n",
       "        vertical-align: top;\n",
       "    }\n",
       "\n",
       "    .dataframe thead th {\n",
       "        text-align: right;\n",
       "    }\n",
       "</style>\n",
       "<table border=\"1\" class=\"dataframe\">\n",
       "  <thead>\n",
       "    <tr style=\"text-align: right;\">\n",
       "      <th></th>\n",
       "      <th>Serial</th>\n",
       "      <th>Emp_ID</th>\n",
       "      <th>Designation</th>\n",
       "      <th>Department</th>\n",
       "      <th>Age</th>\n",
       "      <th>Salary</th>\n",
       "    </tr>\n",
       "  </thead>\n",
       "  <tbody>\n",
       "    <tr>\n",
       "      <th>1</th>\n",
       "      <td>2</td>\n",
       "      <td>1107</td>\n",
       "      <td>Officer</td>\n",
       "      <td>IT</td>\n",
       "      <td>30.0</td>\n",
       "      <td>80000.0</td>\n",
       "    </tr>\n",
       "    <tr>\n",
       "      <th>5</th>\n",
       "      <td>6</td>\n",
       "      <td>2451</td>\n",
       "      <td>Accountant</td>\n",
       "      <td>IT</td>\n",
       "      <td>34.0</td>\n",
       "      <td>100000.0</td>\n",
       "    </tr>\n",
       "    <tr>\n",
       "      <th>14</th>\n",
       "      <td>15</td>\n",
       "      <td>2912</td>\n",
       "      <td>Officer</td>\n",
       "      <td>IT</td>\n",
       "      <td>31.0</td>\n",
       "      <td>90000.0</td>\n",
       "    </tr>\n",
       "  </tbody>\n",
       "</table>\n",
       "</div>"
      ],
      "text/plain": [
       "    Serial  Emp_ID Designation Department   Age    Salary\n",
       "1        2    1107     Officer         IT  30.0   80000.0\n",
       "5        6    2451  Accountant         IT  34.0  100000.0\n",
       "14      15    2912     Officer         IT  31.0   90000.0"
      ]
     },
     "execution_count": 435,
     "metadata": {},
     "output_type": "execute_result"
    }
   ],
   "source": [
    "df2[(df2.Department == 'IT') & (df2.Age >= 30)]"
   ]
  },
  {
   "cell_type": "code",
   "execution_count": 436,
   "metadata": {
    "colab": {
     "base_uri": "https://localhost:8080/"
    },
    "executionInfo": {
     "elapsed": 77,
     "status": "ok",
     "timestamp": 1750786920085,
     "user": {
      "displayName": "Mirza Anas Masood Baig",
      "userId": "16421231184284517890"
     },
     "user_tz": -300
    },
    "id": "ePXNJsv1_epd",
    "outputId": "3b7e75af-039a-4914-90ef-051bb275c984"
   },
   "outputs": [
    {
     "data": {
      "text/plain": [
       "np.int64(3)"
      ]
     },
     "execution_count": 436,
     "metadata": {},
     "output_type": "execute_result"
    }
   ],
   "source": [
    "df2[df2.Age >= 40]['Age'].count()"
   ]
  },
  {
   "cell_type": "code",
   "execution_count": 437,
   "metadata": {
    "colab": {
     "base_uri": "https://localhost:8080/"
    },
    "executionInfo": {
     "elapsed": 81,
     "status": "ok",
     "timestamp": 1750787153256,
     "user": {
      "displayName": "Mirza Anas Masood Baig",
      "userId": "16421231184284517890"
     },
     "user_tz": -300
    },
    "id": "lgTZ_iqOAwSs",
    "outputId": "0b412f45-005a-4837-f234-c9d26ff2e43f"
   },
   "outputs": [
    {
     "data": {
      "text/plain": [
       "np.int64(10)"
      ]
     },
     "execution_count": 437,
     "metadata": {},
     "output_type": "execute_result"
    }
   ],
   "source": [
    "df2[df2.Designation!='Engineer']['Designation'].count()"
   ]
  },
  {
   "cell_type": "code",
   "execution_count": 438,
   "metadata": {
    "colab": {
     "base_uri": "https://localhost:8080/",
     "height": 300
    },
    "executionInfo": {
     "elapsed": 77,
     "status": "ok",
     "timestamp": 1750787347433,
     "user": {
      "displayName": "Mirza Anas Masood Baig",
      "userId": "16421231184284517890"
     },
     "user_tz": -300
    },
    "id": "R_pxqHPBCykB",
    "outputId": "5604eb03-2495-45d6-a537-24c2aa762d27"
   },
   "outputs": [
    {
     "data": {
      "text/html": [
       "<div>\n",
       "<style scoped>\n",
       "    .dataframe tbody tr th:only-of-type {\n",
       "        vertical-align: middle;\n",
       "    }\n",
       "\n",
       "    .dataframe tbody tr th {\n",
       "        vertical-align: top;\n",
       "    }\n",
       "\n",
       "    .dataframe thead th {\n",
       "        text-align: right;\n",
       "    }\n",
       "</style>\n",
       "<table border=\"1\" class=\"dataframe\">\n",
       "  <thead>\n",
       "    <tr style=\"text-align: right;\">\n",
       "      <th></th>\n",
       "      <th>Serial</th>\n",
       "      <th>Emp_ID</th>\n",
       "      <th>Designation</th>\n",
       "      <th>Department</th>\n",
       "      <th>Age</th>\n",
       "      <th>Salary</th>\n",
       "    </tr>\n",
       "  </thead>\n",
       "  <tbody>\n",
       "    <tr>\n",
       "      <th>1</th>\n",
       "      <td>2</td>\n",
       "      <td>1107</td>\n",
       "      <td>Officer</td>\n",
       "      <td>IT</td>\n",
       "      <td>30.0</td>\n",
       "      <td>80000.0</td>\n",
       "    </tr>\n",
       "    <tr>\n",
       "      <th>2</th>\n",
       "      <td>3</td>\n",
       "      <td>1203</td>\n",
       "      <td>Officer</td>\n",
       "      <td>HR</td>\n",
       "      <td>28.0</td>\n",
       "      <td>90000.0</td>\n",
       "    </tr>\n",
       "    <tr>\n",
       "      <th>5</th>\n",
       "      <td>6</td>\n",
       "      <td>2451</td>\n",
       "      <td>Accountant</td>\n",
       "      <td>IT</td>\n",
       "      <td>34.0</td>\n",
       "      <td>100000.0</td>\n",
       "    </tr>\n",
       "    <tr>\n",
       "      <th>7</th>\n",
       "      <td>8</td>\n",
       "      <td>1001</td>\n",
       "      <td>Officer</td>\n",
       "      <td>IT</td>\n",
       "      <td>25.0</td>\n",
       "      <td>75000.0</td>\n",
       "    </tr>\n",
       "    <tr>\n",
       "      <th>8</th>\n",
       "      <td>9</td>\n",
       "      <td>1234</td>\n",
       "      <td>Manager</td>\n",
       "      <td>IT</td>\n",
       "      <td>23.0</td>\n",
       "      <td>90000.0</td>\n",
       "    </tr>\n",
       "    <tr>\n",
       "      <th>13</th>\n",
       "      <td>14</td>\n",
       "      <td>1098</td>\n",
       "      <td>Officer</td>\n",
       "      <td>IT</td>\n",
       "      <td>25.0</td>\n",
       "      <td>100000.0</td>\n",
       "    </tr>\n",
       "    <tr>\n",
       "      <th>14</th>\n",
       "      <td>15</td>\n",
       "      <td>2912</td>\n",
       "      <td>Officer</td>\n",
       "      <td>IT</td>\n",
       "      <td>31.0</td>\n",
       "      <td>90000.0</td>\n",
       "    </tr>\n",
       "    <tr>\n",
       "      <th>15</th>\n",
       "      <td>16</td>\n",
       "      <td>1222</td>\n",
       "      <td>Officer</td>\n",
       "      <td>IT</td>\n",
       "      <td>25.0</td>\n",
       "      <td>90000.0</td>\n",
       "    </tr>\n",
       "  </tbody>\n",
       "</table>\n",
       "</div>"
      ],
      "text/plain": [
       "    Serial  Emp_ID Designation Department   Age    Salary\n",
       "1        2    1107     Officer         IT  30.0   80000.0\n",
       "2        3    1203     Officer         HR  28.0   90000.0\n",
       "5        6    2451  Accountant         IT  34.0  100000.0\n",
       "7        8    1001     Officer         IT  25.0   75000.0\n",
       "8        9    1234     Manager         IT  23.0   90000.0\n",
       "13      14    1098     Officer         IT  25.0  100000.0\n",
       "14      15    2912     Officer         IT  31.0   90000.0\n",
       "15      16    1222     Officer         IT  25.0   90000.0"
      ]
     },
     "execution_count": 438,
     "metadata": {},
     "output_type": "execute_result"
    }
   ],
   "source": [
    "df2[(df2.Department=='IT') | (df2.Department=='HR')]"
   ]
  },
  {
   "cell_type": "code",
   "execution_count": 439,
   "metadata": {
    "colab": {
     "base_uri": "https://localhost:8080/",
     "height": 206
    },
    "executionInfo": {
     "elapsed": 186,
     "status": "ok",
     "timestamp": 1750787522033,
     "user": {
      "displayName": "Mirza Anas Masood Baig",
      "userId": "16421231184284517890"
     },
     "user_tz": -300
    },
    "id": "WO8Bq8aEDtKX",
    "outputId": "aab914cf-f035-401f-9fd6-aa2fc9e2eef2"
   },
   "outputs": [
    {
     "data": {
      "text/html": [
       "<div>\n",
       "<style scoped>\n",
       "    .dataframe tbody tr th:only-of-type {\n",
       "        vertical-align: middle;\n",
       "    }\n",
       "\n",
       "    .dataframe tbody tr th {\n",
       "        vertical-align: top;\n",
       "    }\n",
       "\n",
       "    .dataframe thead th {\n",
       "        text-align: right;\n",
       "    }\n",
       "</style>\n",
       "<table border=\"1\" class=\"dataframe\">\n",
       "  <thead>\n",
       "    <tr style=\"text-align: right;\">\n",
       "      <th></th>\n",
       "      <th>Serial</th>\n",
       "      <th>Emp_ID</th>\n",
       "      <th>Designation</th>\n",
       "      <th>Department</th>\n",
       "      <th>Age</th>\n",
       "      <th>Salary</th>\n",
       "    </tr>\n",
       "  </thead>\n",
       "  <tbody>\n",
       "    <tr>\n",
       "      <th>6</th>\n",
       "      <td>7</td>\n",
       "      <td>1111</td>\n",
       "      <td>Accountant</td>\n",
       "      <td>Accounts</td>\n",
       "      <td>34.294118</td>\n",
       "      <td>110000.0</td>\n",
       "    </tr>\n",
       "    <tr>\n",
       "      <th>5</th>\n",
       "      <td>6</td>\n",
       "      <td>2451</td>\n",
       "      <td>Accountant</td>\n",
       "      <td>IT</td>\n",
       "      <td>34.000000</td>\n",
       "      <td>100000.0</td>\n",
       "    </tr>\n",
       "    <tr>\n",
       "      <th>10</th>\n",
       "      <td>11</td>\n",
       "      <td>6543</td>\n",
       "      <td>Officer</td>\n",
       "      <td>Production</td>\n",
       "      <td>29.000000</td>\n",
       "      <td>100000.0</td>\n",
       "    </tr>\n",
       "    <tr>\n",
       "      <th>13</th>\n",
       "      <td>14</td>\n",
       "      <td>1098</td>\n",
       "      <td>Officer</td>\n",
       "      <td>IT</td>\n",
       "      <td>25.000000</td>\n",
       "      <td>100000.0</td>\n",
       "    </tr>\n",
       "    <tr>\n",
       "      <th>2</th>\n",
       "      <td>3</td>\n",
       "      <td>1203</td>\n",
       "      <td>Officer</td>\n",
       "      <td>HR</td>\n",
       "      <td>28.000000</td>\n",
       "      <td>90000.0</td>\n",
       "    </tr>\n",
       "    <tr>\n",
       "      <th>8</th>\n",
       "      <td>9</td>\n",
       "      <td>1234</td>\n",
       "      <td>Manager</td>\n",
       "      <td>IT</td>\n",
       "      <td>23.000000</td>\n",
       "      <td>90000.0</td>\n",
       "    </tr>\n",
       "  </tbody>\n",
       "</table>\n",
       "</div>"
      ],
      "text/plain": [
       "    Serial  Emp_ID Designation  Department        Age    Salary\n",
       "6        7    1111  Accountant    Accounts  34.294118  110000.0\n",
       "5        6    2451  Accountant          IT  34.000000  100000.0\n",
       "10      11    6543     Officer  Production  29.000000  100000.0\n",
       "13      14    1098     Officer          IT  25.000000  100000.0\n",
       "2        3    1203     Officer          HR  28.000000   90000.0\n",
       "8        9    1234     Manager          IT  23.000000   90000.0"
      ]
     },
     "execution_count": 439,
     "metadata": {},
     "output_type": "execute_result"
    }
   ],
   "source": [
    "df2.sort_values(by='Salary' ,ascending=False).head(6)"
   ]
  },
  {
   "cell_type": "code",
   "execution_count": 440,
   "metadata": {
    "colab": {
     "base_uri": "https://localhost:8080/",
     "height": 241
    },
    "executionInfo": {
     "elapsed": 36,
     "status": "ok",
     "timestamp": 1750787814585,
     "user": {
      "displayName": "Mirza Anas Masood Baig",
      "userId": "16421231184284517890"
     },
     "user_tz": -300
    },
    "id": "219kID1SESFL",
    "outputId": "613e54ab-472b-471d-e7d3-78e4f051019a"
   },
   "outputs": [
    {
     "data": {
      "text/plain": [
       "Department\n",
       "Accounts      110000.000000\n",
       "HR             90000.000000\n",
       "IT             89285.714286\n",
       "Production     91750.000000\n",
       "Name: Salary, dtype: float64"
      ]
     },
     "execution_count": 440,
     "metadata": {},
     "output_type": "execute_result"
    }
   ],
   "source": [
    "df2.groupby('Department')['Salary'].mean()"
   ]
  },
  {
   "cell_type": "code",
   "execution_count": 441,
   "metadata": {
    "colab": {
     "base_uri": "https://localhost:8080/",
     "height": 241
    },
    "executionInfo": {
     "elapsed": 31,
     "status": "ok",
     "timestamp": 1750787829688,
     "user": {
      "displayName": "Mirza Anas Masood Baig",
      "userId": "16421231184284517890"
     },
     "user_tz": -300
    },
    "id": "cxCvTwlxE-7E",
    "outputId": "a47e7f71-e309-4a36-c634-81637fa61703"
   },
   "outputs": [
    {
     "data": {
      "text/plain": [
       "Designation\n",
       "Accountant    105000.000000\n",
       "Engineer       89000.000000\n",
       "Manager        90000.000000\n",
       "Officer        89285.714286\n",
       "Name: Salary, dtype: float64"
      ]
     },
     "execution_count": 441,
     "metadata": {},
     "output_type": "execute_result"
    }
   ],
   "source": [
    "df2.groupby('Designation')['Salary'].mean()"
   ]
  },
  {
   "cell_type": "code",
   "execution_count": null,
   "metadata": {
    "id": "-RjLeUV6Fi2Z"
   },
   "outputs": [],
   "source": []
  }
 ],
 "metadata": {
  "colab": {
   "authorship_tag": "ABX9TyP79mU8EZ//cV+wmV2qXmnj",
   "provenance": []
  },
  "kernelspec": {
   "display_name": "Python 3",
   "name": "python3"
  },
  "language_info": {
   "codemirror_mode": {
    "name": "ipython",
    "version": 3
   },
   "file_extension": ".py",
   "mimetype": "text/x-python",
   "name": "python",
   "nbconvert_exporter": "python",
   "pygments_lexer": "ipython3",
   "version": "3.13.3"
  }
 },
 "nbformat": 4,
 "nbformat_minor": 0
}
