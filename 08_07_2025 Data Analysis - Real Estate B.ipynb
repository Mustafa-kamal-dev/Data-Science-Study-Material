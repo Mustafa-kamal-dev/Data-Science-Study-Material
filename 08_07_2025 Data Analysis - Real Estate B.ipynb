{
 "cells": [
  {
   "cell_type": "code",
   "execution_count": 13,
   "metadata": {
    "executionInfo": {
     "elapsed": 1491,
     "status": "ok",
     "timestamp": 1751992774708,
     "user": {
      "displayName": "Mirza Anas Masood Baig",
      "userId": "16421231184284517890"
     },
     "user_tz": -300
    },
    "id": "XjPrKnYc47-h"
   },
   "outputs": [],
   "source": [
    "import pandas as pd\n",
    "import numpy as np\n",
    "import seaborn as sns\n",
    "import matplotlib.pyplot as plt\n",
    "import datetime\n"
   ]
  },
  {
   "cell_type": "code",
   "execution_count": 14,
   "metadata": {
    "colab": {
     "base_uri": "https://localhost:8080/",
     "height": 129
    },
    "executionInfo": {
     "elapsed": 69,
     "status": "ok",
     "timestamp": 1751992815350,
     "user": {
      "displayName": "Mirza Anas Masood Baig",
      "userId": "16421231184284517890"
     },
     "user_tz": -300
    },
    "id": "uyZ74tGV6Chm",
    "outputId": "675b13d2-98a5-4b33-d509-afb94ecff5ea"
   },
   "outputs": [
    {
     "data": {
      "text/html": [
       "<div>\n",
       "<style scoped>\n",
       "    .dataframe tbody tr th:only-of-type {\n",
       "        vertical-align: middle;\n",
       "    }\n",
       "\n",
       "    .dataframe tbody tr th {\n",
       "        vertical-align: top;\n",
       "    }\n",
       "\n",
       "    .dataframe thead th {\n",
       "        text-align: right;\n",
       "    }\n",
       "</style>\n",
       "<table border=\"1\" class=\"dataframe\">\n",
       "  <thead>\n",
       "    <tr style=\"text-align: right;\">\n",
       "      <th></th>\n",
       "      <th>No</th>\n",
       "      <th>X1 transaction date</th>\n",
       "      <th>X2 house age</th>\n",
       "      <th>X3 distance to the nearest MRT station</th>\n",
       "      <th>X4 number of convenience stores</th>\n",
       "      <th>X5 latitude</th>\n",
       "      <th>X6 longitude</th>\n",
       "      <th>Y house price of unit area</th>\n",
       "    </tr>\n",
       "  </thead>\n",
       "  <tbody>\n",
       "    <tr>\n",
       "      <th>0</th>\n",
       "      <td>1</td>\n",
       "      <td>2012.917</td>\n",
       "      <td>32.0</td>\n",
       "      <td>84.87882</td>\n",
       "      <td>10</td>\n",
       "      <td>24.98298</td>\n",
       "      <td>121.54024</td>\n",
       "      <td>37.9</td>\n",
       "    </tr>\n",
       "    <tr>\n",
       "      <th>1</th>\n",
       "      <td>2</td>\n",
       "      <td>2012.917</td>\n",
       "      <td>19.5</td>\n",
       "      <td>306.59470</td>\n",
       "      <td>9</td>\n",
       "      <td>24.98034</td>\n",
       "      <td>121.53951</td>\n",
       "      <td>42.2</td>\n",
       "    </tr>\n",
       "  </tbody>\n",
       "</table>\n",
       "</div>"
      ],
      "text/plain": [
       "   No  X1 transaction date  X2 house age  \\\n",
       "0   1             2012.917          32.0   \n",
       "1   2             2012.917          19.5   \n",
       "\n",
       "   X3 distance to the nearest MRT station  X4 number of convenience stores  \\\n",
       "0                                84.87882                               10   \n",
       "1                               306.59470                                9   \n",
       "\n",
       "   X5 latitude  X6 longitude  Y house price of unit area  \n",
       "0     24.98298     121.54024                        37.9  \n",
       "1     24.98034     121.53951                        42.2  "
      ]
     },
     "execution_count": 14,
     "metadata": {},
     "output_type": "execute_result"
    }
   ],
   "source": [
    "df = pd.read_csv('Real estate.csv')\n",
    "df.head(2)"
   ]
  },
  {
   "cell_type": "code",
   "execution_count": 15,
   "metadata": {
    "executionInfo": {
     "elapsed": 47,
     "status": "ok",
     "timestamp": 1751992962188,
     "user": {
      "displayName": "Mirza Anas Masood Baig",
      "userId": "16421231184284517890"
     },
     "user_tz": -300
    },
    "id": "ue1nf_Ja6Ke_"
   },
   "outputs": [],
   "source": [
    "df.drop('No' , axis=1 , inplace= True)"
   ]
  },
  {
   "cell_type": "code",
   "execution_count": 16,
   "metadata": {
    "colab": {
     "base_uri": "https://localhost:8080/",
     "height": 129
    },
    "executionInfo": {
     "elapsed": 72,
     "status": "ok",
     "timestamp": 1751992969042,
     "user": {
      "displayName": "Mirza Anas Masood Baig",
      "userId": "16421231184284517890"
     },
     "user_tz": -300
    },
    "id": "4R3hIPb76woT",
    "outputId": "8b18f672-d543-4d15-86d3-bacca905fafb"
   },
   "outputs": [
    {
     "data": {
      "text/html": [
       "<div>\n",
       "<style scoped>\n",
       "    .dataframe tbody tr th:only-of-type {\n",
       "        vertical-align: middle;\n",
       "    }\n",
       "\n",
       "    .dataframe tbody tr th {\n",
       "        vertical-align: top;\n",
       "    }\n",
       "\n",
       "    .dataframe thead th {\n",
       "        text-align: right;\n",
       "    }\n",
       "</style>\n",
       "<table border=\"1\" class=\"dataframe\">\n",
       "  <thead>\n",
       "    <tr style=\"text-align: right;\">\n",
       "      <th></th>\n",
       "      <th>X1 transaction date</th>\n",
       "      <th>X2 house age</th>\n",
       "      <th>X3 distance to the nearest MRT station</th>\n",
       "      <th>X4 number of convenience stores</th>\n",
       "      <th>X5 latitude</th>\n",
       "      <th>X6 longitude</th>\n",
       "      <th>Y house price of unit area</th>\n",
       "    </tr>\n",
       "  </thead>\n",
       "  <tbody>\n",
       "    <tr>\n",
       "      <th>0</th>\n",
       "      <td>2012.917</td>\n",
       "      <td>32.0</td>\n",
       "      <td>84.87882</td>\n",
       "      <td>10</td>\n",
       "      <td>24.98298</td>\n",
       "      <td>121.54024</td>\n",
       "      <td>37.9</td>\n",
       "    </tr>\n",
       "    <tr>\n",
       "      <th>1</th>\n",
       "      <td>2012.917</td>\n",
       "      <td>19.5</td>\n",
       "      <td>306.59470</td>\n",
       "      <td>9</td>\n",
       "      <td>24.98034</td>\n",
       "      <td>121.53951</td>\n",
       "      <td>42.2</td>\n",
       "    </tr>\n",
       "  </tbody>\n",
       "</table>\n",
       "</div>"
      ],
      "text/plain": [
       "   X1 transaction date  X2 house age  X3 distance to the nearest MRT station  \\\n",
       "0             2012.917          32.0                                84.87882   \n",
       "1             2012.917          19.5                               306.59470   \n",
       "\n",
       "   X4 number of convenience stores  X5 latitude  X6 longitude  \\\n",
       "0                               10     24.98298     121.54024   \n",
       "1                                9     24.98034     121.53951   \n",
       "\n",
       "   Y house price of unit area  \n",
       "0                        37.9  \n",
       "1                        42.2  "
      ]
     },
     "execution_count": 16,
     "metadata": {},
     "output_type": "execute_result"
    }
   ],
   "source": [
    "df.head(2)"
   ]
  },
  {
   "cell_type": "code",
   "execution_count": 17,
   "metadata": {
    "colab": {
     "base_uri": "https://localhost:8080/",
     "height": 80
    },
    "executionInfo": {
     "elapsed": 146,
     "status": "ok",
     "timestamp": 1751993746887,
     "user": {
      "displayName": "Mirza Anas Masood Baig",
      "userId": "16421231184284517890"
     },
     "user_tz": -300
    },
    "id": "Ub69sJP56x7s",
    "outputId": "1d6e70ad-b2c0-4705-f576-71682439172c"
   },
   "outputs": [
    {
     "data": {
      "text/html": [
       "<div>\n",
       "<style scoped>\n",
       "    .dataframe tbody tr th:only-of-type {\n",
       "        vertical-align: middle;\n",
       "    }\n",
       "\n",
       "    .dataframe tbody tr th {\n",
       "        vertical-align: top;\n",
       "    }\n",
       "\n",
       "    .dataframe thead th {\n",
       "        text-align: right;\n",
       "    }\n",
       "</style>\n",
       "<table border=\"1\" class=\"dataframe\">\n",
       "  <thead>\n",
       "    <tr style=\"text-align: right;\">\n",
       "      <th></th>\n",
       "      <th>TransactionDate</th>\n",
       "      <th>HouseAge</th>\n",
       "      <th>DistanceTooMRT</th>\n",
       "      <th>NumberOfStores</th>\n",
       "      <th>Latitude</th>\n",
       "      <th>Longitude</th>\n",
       "      <th>HousePricePerUnit</th>\n",
       "    </tr>\n",
       "  </thead>\n",
       "  <tbody>\n",
       "    <tr>\n",
       "      <th>0</th>\n",
       "      <td>2012.917</td>\n",
       "      <td>32.0</td>\n",
       "      <td>84.87882</td>\n",
       "      <td>10</td>\n",
       "      <td>24.98298</td>\n",
       "      <td>121.54024</td>\n",
       "      <td>37.9</td>\n",
       "    </tr>\n",
       "  </tbody>\n",
       "</table>\n",
       "</div>"
      ],
      "text/plain": [
       "   TransactionDate  HouseAge  DistanceTooMRT  NumberOfStores  Latitude  \\\n",
       "0         2012.917      32.0        84.87882              10  24.98298   \n",
       "\n",
       "   Longitude  HousePricePerUnit  \n",
       "0  121.54024               37.9  "
      ]
     },
     "execution_count": 17,
     "metadata": {},
     "output_type": "execute_result"
    }
   ],
   "source": [
    "df.columns = ['TransactionDate', 'HouseAge', 'DistanceTooMRT', 'NumberOfStores', 'Latitude', 'Longitude', 'HousePricePerUnit']\n",
    "df.head(1)"
   ]
  },
  {
   "cell_type": "code",
   "execution_count": 18,
   "metadata": {
    "colab": {
     "base_uri": "https://localhost:8080/",
     "height": 35
    },
    "executionInfo": {
     "elapsed": 53,
     "status": "ok",
     "timestamp": 1751994309828,
     "user": {
      "displayName": "Mirza Anas Masood Baig",
      "userId": "16421231184284517890"
     },
     "user_tz": -300
    },
    "id": "7PY1k6Tw9cPg",
    "outputId": "220cc6cf-3e1c-4101-f485-3f7e19978c28"
   },
   "outputs": [
    {
     "data": {
      "text/plain": [
       "'\\nDOG\\nAttributes:\\n4 limbs\\n1 tail\\n2 eyes\\nMethods:\\nbark()\\neat(meat)\\nrun()\\n'"
      ]
     },
     "execution_count": 18,
     "metadata": {},
     "output_type": "execute_result"
    }
   ],
   "source": [
    "'''\n",
    "DOG\n",
    "Attributes:\n",
    "4 limbs\n",
    "1 tail\n",
    "2 eyes\n",
    "Methods:\n",
    "bark()\n",
    "eat(meat)\n",
    "run()\n",
    "'''"
   ]
  },
  {
   "cell_type": "code",
   "execution_count": 19,
   "metadata": {
    "colab": {
     "base_uri": "https://localhost:8080/",
     "height": 458
    },
    "executionInfo": {
     "elapsed": 22,
     "status": "ok",
     "timestamp": 1751994327415,
     "user": {
      "displayName": "Mirza Anas Masood Baig",
      "userId": "16421231184284517890"
     },
     "user_tz": -300
    },
    "id": "IBEkHFpV_5ow",
    "outputId": "37110428-81a7-4e54-df95-89a068f3b847"
   },
   "outputs": [
    {
     "data": {
      "text/plain": [
       "0      2012.917\n",
       "1      2012.917\n",
       "2      2013.583\n",
       "3      2013.500\n",
       "4      2012.833\n",
       "         ...   \n",
       "409    2013.000\n",
       "410    2012.667\n",
       "411    2013.250\n",
       "412    2013.000\n",
       "413    2013.500\n",
       "Name: TransactionDate, Length: 414, dtype: float64"
      ]
     },
     "execution_count": 19,
     "metadata": {},
     "output_type": "execute_result"
    }
   ],
   "source": [
    "df['TransactionDate']"
   ]
  },
  {
   "cell_type": "code",
   "execution_count": 20,
   "metadata": {
    "colab": {
     "base_uri": "https://localhost:8080/",
     "height": 206
    },
    "executionInfo": {
     "elapsed": 169,
     "status": "ok",
     "timestamp": 1751995421929,
     "user": {
      "displayName": "Mirza Anas Masood Baig",
      "userId": "16421231184284517890"
     },
     "user_tz": -300
    },
    "id": "Vo-BziHm_9mQ",
    "outputId": "e2d34f06-e723-4303-f6e3-9005a15635c0"
   },
   "outputs": [],
   "source": [
    "df['TransactionMonth'] = df['TransactionDate'].astype(str).str.split('.').str[1].astype(int)"
   ]
  },
  {
   "cell_type": "code",
   "execution_count": 21,
   "metadata": {},
   "outputs": [
    {
     "data": {
      "text/html": [
       "<div>\n",
       "<style scoped>\n",
       "    .dataframe tbody tr th:only-of-type {\n",
       "        vertical-align: middle;\n",
       "    }\n",
       "\n",
       "    .dataframe tbody tr th {\n",
       "        vertical-align: top;\n",
       "    }\n",
       "\n",
       "    .dataframe thead th {\n",
       "        text-align: right;\n",
       "    }\n",
       "</style>\n",
       "<table border=\"1\" class=\"dataframe\">\n",
       "  <thead>\n",
       "    <tr style=\"text-align: right;\">\n",
       "      <th></th>\n",
       "      <th>TransactionDate</th>\n",
       "      <th>HouseAge</th>\n",
       "      <th>DistanceTooMRT</th>\n",
       "      <th>NumberOfStores</th>\n",
       "      <th>Latitude</th>\n",
       "      <th>Longitude</th>\n",
       "      <th>HousePricePerUnit</th>\n",
       "      <th>TransactionMonth</th>\n",
       "    </tr>\n",
       "  </thead>\n",
       "  <tbody>\n",
       "    <tr>\n",
       "      <th>0</th>\n",
       "      <td>2012.917</td>\n",
       "      <td>32.0</td>\n",
       "      <td>84.87882</td>\n",
       "      <td>10</td>\n",
       "      <td>24.98298</td>\n",
       "      <td>121.54024</td>\n",
       "      <td>37.9</td>\n",
       "      <td>917</td>\n",
       "    </tr>\n",
       "    <tr>\n",
       "      <th>1</th>\n",
       "      <td>2012.917</td>\n",
       "      <td>19.5</td>\n",
       "      <td>306.59470</td>\n",
       "      <td>9</td>\n",
       "      <td>24.98034</td>\n",
       "      <td>121.53951</td>\n",
       "      <td>42.2</td>\n",
       "      <td>917</td>\n",
       "    </tr>\n",
       "    <tr>\n",
       "      <th>2</th>\n",
       "      <td>2013.583</td>\n",
       "      <td>13.3</td>\n",
       "      <td>561.98450</td>\n",
       "      <td>5</td>\n",
       "      <td>24.98746</td>\n",
       "      <td>121.54391</td>\n",
       "      <td>47.3</td>\n",
       "      <td>583</td>\n",
       "    </tr>\n",
       "    <tr>\n",
       "      <th>3</th>\n",
       "      <td>2013.500</td>\n",
       "      <td>13.3</td>\n",
       "      <td>561.98450</td>\n",
       "      <td>5</td>\n",
       "      <td>24.98746</td>\n",
       "      <td>121.54391</td>\n",
       "      <td>54.8</td>\n",
       "      <td>5</td>\n",
       "    </tr>\n",
       "    <tr>\n",
       "      <th>4</th>\n",
       "      <td>2012.833</td>\n",
       "      <td>5.0</td>\n",
       "      <td>390.56840</td>\n",
       "      <td>5</td>\n",
       "      <td>24.97937</td>\n",
       "      <td>121.54245</td>\n",
       "      <td>43.1</td>\n",
       "      <td>833</td>\n",
       "    </tr>\n",
       "  </tbody>\n",
       "</table>\n",
       "</div>"
      ],
      "text/plain": [
       "   TransactionDate  HouseAge  DistanceTooMRT  NumberOfStores  Latitude  \\\n",
       "0         2012.917      32.0        84.87882              10  24.98298   \n",
       "1         2012.917      19.5       306.59470               9  24.98034   \n",
       "2         2013.583      13.3       561.98450               5  24.98746   \n",
       "3         2013.500      13.3       561.98450               5  24.98746   \n",
       "4         2012.833       5.0       390.56840               5  24.97937   \n",
       "\n",
       "   Longitude  HousePricePerUnit  TransactionMonth  \n",
       "0  121.54024               37.9               917  \n",
       "1  121.53951               42.2               917  \n",
       "2  121.54391               47.3               583  \n",
       "3  121.54391               54.8                 5  \n",
       "4  121.54245               43.1               833  "
      ]
     },
     "execution_count": 21,
     "metadata": {},
     "output_type": "execute_result"
    }
   ],
   "source": [
    "df.head()"
   ]
  },
  {
   "cell_type": "code",
   "execution_count": 22,
   "metadata": {
    "colab": {
     "base_uri": "https://localhost:8080/",
     "height": 472
    },
    "executionInfo": {
     "elapsed": 800,
     "status": "ok",
     "timestamp": 1751995786278,
     "user": {
      "displayName": "Mirza Anas Masood Baig",
      "userId": "16421231184284517890"
     },
     "user_tz": -300
    },
    "id": "bsvt-sKhEJId",
    "outputId": "c04b684a-6c50-48cf-f775-028467ce6c65"
   },
   "outputs": [
    {
     "data": {
      "image/png": "[encoded data removed]",
      "text/plain": [
       "<Figure size 640x480 with 1 Axes>"
      ]
     },
     "metadata": {},
     "output_type": "display_data"
    }
   ],
   "source": [
    "sns.boxplot(x='TransactionMonth' , y='HousePricePerUnit' ,data=df)\n",
    "plt.title('Seasonal Trendz')\n",
    "plt.xlabel('Transaction_Month')\n",
    "plt.ylabel('House price per Unit')\n",
    "plt.show()"
   ]
  },
  {
   "cell_type": "code",
   "execution_count": 23,
   "metadata": {
    "colab": {
     "base_uri": "https://localhost:8080/"
    },
    "executionInfo": {
     "elapsed": 62,
     "status": "ok",
     "timestamp": 1751996254627,
     "user": {
      "displayName": "Mirza Anas Masood Baig",
      "userId": "16421231184284517890"
     },
     "user_tz": -300
    },
    "id": "ftMLzHNPFh7e",
    "outputId": "622aa908-c24b-4ecf-9b41-99402bbe2049"
   },
   "outputs": [
    {
     "name": "stdout",
     "output_type": "stream",
     "text": [
      "TransactionMonth\n",
      "0      31.057143\n",
      "5      38.119149\n",
      "25     41.293750\n",
      "75     35.581481\n",
      "83     40.493478\n",
      "167    38.304000\n",
      "333    41.562069\n",
      "417    38.453448\n",
      "583    39.604348\n",
      "667    38.543333\n",
      "833    35.683871\n",
      "917    35.557895\n",
      "Name: HousePricePerUnit, dtype: float64\n"
     ]
    }
   ],
   "source": [
    "monthly_average = df.groupby('TransactionMonth')['HousePricePerUnit'].mean()\n",
    "print(monthly_average)"
   ]
  },
  {
   "cell_type": "code",
   "execution_count": 42,
   "metadata": {
    "executionInfo": {
     "elapsed": 42,
     "status": "ok",
     "timestamp": 1751997870003,
     "user": {
      "displayName": "Mirza Anas Masood Baig",
      "userId": "16421231184284517890"
     },
     "user_tz": -300
    },
    "id": "SRgi0-MIHUdw"
   },
   "outputs": [
    {
     "data": {
      "text/html": [
       "<div>\n",
       "<style scoped>\n",
       "    .dataframe tbody tr th:only-of-type {\n",
       "        vertical-align: middle;\n",
       "    }\n",
       "\n",
       "    .dataframe tbody tr th {\n",
       "        vertical-align: top;\n",
       "    }\n",
       "\n",
       "    .dataframe thead th {\n",
       "        text-align: right;\n",
       "    }\n",
       "</style>\n",
       "<table border=\"1\" class=\"dataframe\">\n",
       "  <thead>\n",
       "    <tr style=\"text-align: right;\">\n",
       "      <th></th>\n",
       "      <th>TransactionDate</th>\n",
       "      <th>HouseAge</th>\n",
       "      <th>DistanceTooMRT</th>\n",
       "      <th>NumberOfStores</th>\n",
       "      <th>Latitude</th>\n",
       "      <th>Longitude</th>\n",
       "      <th>HousePricePerUnit</th>\n",
       "      <th>TransactionMonth</th>\n",
       "      <th>T_date_time</th>\n",
       "      <th>T_month_name</th>\n",
       "    </tr>\n",
       "  </thead>\n",
       "  <tbody>\n",
       "    <tr>\n",
       "      <th>0</th>\n",
       "      <td>2012.917</td>\n",
       "      <td>32.0</td>\n",
       "      <td>84.87882</td>\n",
       "      <td>10</td>\n",
       "      <td>24.98298</td>\n",
       "      <td>121.54024</td>\n",
       "      <td>37.9</td>\n",
       "      <td>917</td>\n",
       "      <td>2012-11-30 16:55:11.999997</td>\n",
       "      <td>November</td>\n",
       "    </tr>\n",
       "    <tr>\n",
       "      <th>1</th>\n",
       "      <td>2012.917</td>\n",
       "      <td>19.5</td>\n",
       "      <td>306.59470</td>\n",
       "      <td>9</td>\n",
       "      <td>24.98034</td>\n",
       "      <td>121.53951</td>\n",
       "      <td>42.2</td>\n",
       "      <td>917</td>\n",
       "      <td>2012-11-30 16:55:11.999997</td>\n",
       "      <td>November</td>\n",
       "    </tr>\n",
       "    <tr>\n",
       "      <th>2</th>\n",
       "      <td>2013.583</td>\n",
       "      <td>13.3</td>\n",
       "      <td>561.98450</td>\n",
       "      <td>5</td>\n",
       "      <td>24.98746</td>\n",
       "      <td>121.54391</td>\n",
       "      <td>47.3</td>\n",
       "      <td>583</td>\n",
       "      <td>2013-08-01 19:04:48.000003</td>\n",
       "      <td>August</td>\n",
       "    </tr>\n",
       "    <tr>\n",
       "      <th>3</th>\n",
       "      <td>2013.500</td>\n",
       "      <td>13.3</td>\n",
       "      <td>561.98450</td>\n",
       "      <td>5</td>\n",
       "      <td>24.98746</td>\n",
       "      <td>121.54391</td>\n",
       "      <td>54.8</td>\n",
       "      <td>5</td>\n",
       "      <td>2013-07-02 12:00:00.000000</td>\n",
       "      <td>July</td>\n",
       "    </tr>\n",
       "    <tr>\n",
       "      <th>4</th>\n",
       "      <td>2012.833</td>\n",
       "      <td>5.0</td>\n",
       "      <td>390.56840</td>\n",
       "      <td>5</td>\n",
       "      <td>24.97937</td>\n",
       "      <td>121.54245</td>\n",
       "      <td>43.1</td>\n",
       "      <td>833</td>\n",
       "      <td>2012-10-31 01:04:48.000003</td>\n",
       "      <td>October</td>\n",
       "    </tr>\n",
       "  </tbody>\n",
       "</table>\n",
       "</div>"
      ],
      "text/plain": [
       "   TransactionDate  HouseAge  DistanceTooMRT  NumberOfStores  Latitude  \\\n",
       "0         2012.917      32.0        84.87882              10  24.98298   \n",
       "1         2012.917      19.5       306.59470               9  24.98034   \n",
       "2         2013.583      13.3       561.98450               5  24.98746   \n",
       "3         2013.500      13.3       561.98450               5  24.98746   \n",
       "4         2012.833       5.0       390.56840               5  24.97937   \n",
       "\n",
       "   Longitude  HousePricePerUnit  TransactionMonth                T_date_time  \\\n",
       "0  121.54024               37.9               917 2012-11-30 16:55:11.999997   \n",
       "1  121.53951               42.2               917 2012-11-30 16:55:11.999997   \n",
       "2  121.54391               47.3               583 2013-08-01 19:04:48.000003   \n",
       "3  121.54391               54.8                 5 2013-07-02 12:00:00.000000   \n",
       "4  121.54245               43.1               833 2012-10-31 01:04:48.000003   \n",
       "\n",
       "  T_month_name  \n",
       "0     November  \n",
       "1     November  \n",
       "2       August  \n",
       "3         July  \n",
       "4      October  "
      ]
     },
     "execution_count": 42,
     "metadata": {},
     "output_type": "execute_result"
    }
   ],
   "source": [
    "def convert_fractional_year_to_date(fractional_year):\n",
    "    year = int(fractional_year)\n",
    "    rem = fractional_year - year\n",
    "    base = datetime.datetime(year , 1 , 1)\n",
    "    result_date = base + datetime.timedelta(days = rem * 365)\n",
    "    return result_date\n",
    "df['T_date_time'] = df['TransactionDate'].apply(convert_fractional_year_to_date)\n",
    "df['T_month_name'] = df['T_date_time'].dt.strftime('%B')\n",
    "df.head()\n",
    "\n"
   ]
  }
 ],
 "metadata": {
  "colab": {
   "authorship_tag": "ABX9TyN1c1XUANNDL5hV6mUVWj74",
   "provenance": []
  },
  "kernelspec": {
   "display_name": "Python 3",
   "name": "python3"
  },
  "language_info": {
   "codemirror_mode": {
    "name": "ipython",
    "version": 3
   },
   "file_extension": ".py",
   "mimetype": "text/x-python",
   "name": "python",
   "nbconvert_exporter": "python",
   "pygments_lexer": "ipython3",
   "version": "3.13.3"
  }
 },
 "nbformat": 4,
 "nbformat_minor": 0
}
