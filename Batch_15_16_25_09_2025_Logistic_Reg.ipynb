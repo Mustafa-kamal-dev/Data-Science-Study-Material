{
  "nbformat": 4,
  "nbformat_minor": 0,
  "metadata": {
    "colab": {
      "provenance": []
    },
    "kernelspec": {
      "name": "python3",
      "display_name": "Python 3"
    },
    "language_info": {
      "name": "python"
    }
  },
  "cells": [
    {
      "cell_type": "code",
      "execution_count": 1,
      "metadata": {
        "colab": {
          "base_uri": "https://localhost:8080/",
          "height": 70
        },
        "id": "smd_haJnS2jx",
        "outputId": "7a8eefd6-08a0-415a-df85-62576d83d9da"
      },
      "outputs": [
        {
          "output_type": "execute_result",
          "data": {
            "text/plain": [
              "'\\nX-axis = FPR (False Positive Rate)\\nFormula FP / (FP + TN)\\nHow many of the actual negatives did we mistakenly called positive\\n\\nY-axis = TPR (True Positive Rate) = Recall\\nFormula = TP / (TP + FN)\\nHow many of the actual positives did we correctly catch\\n\\nhigher threshold = high precision and low recall\\nlower threshold = low precision and high recall\\n\\n'"
            ],
            "application/vnd.google.colaboratory.intrinsic+json": {
              "type": "string"
            }
          },
          "metadata": {},
          "execution_count": 1
        }
      ],
      "source": [
        "#ROC: Receiver Operating Characteristic\n",
        "#It's a graph that shows how good a model is at distinguishing between two classes\n",
        "# Instead of fixing one threshold (0.5), we test all possible thresholds from 0 to 1\n",
        "'''\n",
        "X-axis = FPR (False Positive Rate)\n",
        "Formula FP / (FP + TN)\n",
        "How many of the actual negatives did we mistakenly called positive\n",
        "\n",
        "Y-axis = TPR (True Positive Rate) = Recall\n",
        "Formula = TP / (TP + FN)\n",
        "How many of the actual positives did we correctly catch\n",
        "\n",
        "higher threshold = high precision and low recall\n",
        "lower threshold = low precision and high recall\n",
        "\n",
        "'''"
      ]
    },
    {
      "cell_type": "code",
      "source": [
        "import numpy as np\n",
        "import matplotlib.pyplot as plt\n",
        "from sklearn.metrics import roc_curve, roc_auc_score"
      ],
      "metadata": {
        "id": "eS3C5-sSVuW4"
      },
      "execution_count": 2,
      "outputs": []
    },
    {
      "cell_type": "code",
      "source": [
        "y_true = [1,1,0,1,0,1,0,0,1,0]\n",
        "y_scores = [0.95,0.9, 0.85, 0.8,0.7,0.6,0.4,0.3,0.2,0.1]\n",
        ""
      ],
      "metadata": {
        "id": "cf1eKuVbcdMg"
      },
      "execution_count": 3,
      "outputs": []
    },
    {
      "cell_type": "code",
      "source": [
        "fpr, tpr, thresholds =  roc_curve(y_true, y_scores)\n",
        "auc_score = roc_auc_score(y_true, y_scores)"
      ],
      "metadata": {
        "id": "RKA-tmqtc41j"
      },
      "execution_count": 5,
      "outputs": []
    },
    {
      "cell_type": "code",
      "source": [
        "fpr"
      ],
      "metadata": {
        "colab": {
          "base_uri": "https://localhost:8080/"
        },
        "id": "oH6iMFxBdKu5",
        "outputId": "c44e6678-8822-48fc-da3a-a364afbb0589"
      },
      "execution_count": 6,
      "outputs": [
        {
          "output_type": "execute_result",
          "data": {
            "text/plain": [
              "array([0. , 0. , 0. , 0.2, 0.2, 0.4, 0.4, 0.8, 0.8, 1. ])"
            ]
          },
          "metadata": {},
          "execution_count": 6
        }
      ]
    },
    {
      "cell_type": "code",
      "source": [
        "tpr"
      ],
      "metadata": {
        "colab": {
          "base_uri": "https://localhost:8080/"
        },
        "id": "JxcMpRUFdO9x",
        "outputId": "cc4f4297-7f7f-4d08-9969-b294ec0b8046"
      },
      "execution_count": 7,
      "outputs": [
        {
          "output_type": "execute_result",
          "data": {
            "text/plain": [
              "array([0. , 0.2, 0.4, 0.4, 0.6, 0.6, 0.8, 0.8, 1. , 1. ])"
            ]
          },
          "metadata": {},
          "execution_count": 7
        }
      ]
    },
    {
      "cell_type": "code",
      "source": [
        "thresholds"
      ],
      "metadata": {
        "colab": {
          "base_uri": "https://localhost:8080/"
        },
        "id": "JtYgmnk7dRK1",
        "outputId": "8922b58f-8a39-4fb7-d54b-cba8149a920e"
      },
      "execution_count": 8,
      "outputs": [
        {
          "output_type": "execute_result",
          "data": {
            "text/plain": [
              "array([ inf, 0.95, 0.9 , 0.85, 0.8 , 0.7 , 0.6 , 0.3 , 0.2 , 0.1 ])"
            ]
          },
          "metadata": {},
          "execution_count": 8
        }
      ]
    },
    {
      "cell_type": "code",
      "source": [
        "plt.figure(figsize=(5,5))\n",
        "plt.plot(fpr, tpr, color='blue', label=f'ROC curve (AUC = {auc_score:.2f})')\n",
        "plt.plot([0,1], [0,1], color='gray', linestyle='--', label='Random Guess')\n",
        "plt.xlabel('FPR')\n",
        "plt.ylabel('TPR/Recall')\n",
        "plt.legend(loc='lower right')\n",
        "plt.grid(True)\n",
        "plt.show()"
      ],
      "metadata": {
        "colab": {
          "base_uri": "https://localhost:8080/",
          "height": 465
        },
        "id": "mb10Id7XdTta",
        "outputId": "2f4f9fe2-ca36-4f5e-b629-52182d01d5dd"
      },
      "execution_count": 10,
      "outputs": [
        {
          "output_type": "display_data",
          "data": {
            "text/plain": [
              "<Figure size 500x500 with 1 Axes>"
            ],
            "image/png": "[encoded data removed]"
          },
          "metadata": {}
        }
      ]
    },
    {
      "cell_type": "code",
      "source": [
        "for i in range(len(thresholds)):\n",
        "  print(f'Threshold: {thresholds[i]:.2f} | FPR: {fpr[i]:.2f} | TPR: {tpr[i]:.2f}')"
      ],
      "metadata": {
        "colab": {
          "base_uri": "https://localhost:8080/"
        },
        "id": "z-8RUiDOeL2j",
        "outputId": "d7cc3512-0219-45f5-f768-fa72ec616b89"
      },
      "execution_count": 11,
      "outputs": [
        {
          "output_type": "stream",
          "name": "stdout",
          "text": [
            "Threshold: inf | FPR: 0.00 | TPR: 0.00\n",
            "Threshold: 0.95 | FPR: 0.00 | TPR: 0.20\n",
            "Threshold: 0.90 | FPR: 0.00 | TPR: 0.40\n",
            "Threshold: 0.85 | FPR: 0.20 | TPR: 0.40\n",
            "Threshold: 0.80 | FPR: 0.20 | TPR: 0.60\n",
            "Threshold: 0.70 | FPR: 0.40 | TPR: 0.60\n",
            "Threshold: 0.60 | FPR: 0.40 | TPR: 0.80\n",
            "Threshold: 0.30 | FPR: 0.80 | TPR: 0.80\n",
            "Threshold: 0.20 | FPR: 0.80 | TPR: 1.00\n",
            "Threshold: 0.10 | FPR: 1.00 | TPR: 1.00\n"
          ]
        }
      ]
    },
    {
      "cell_type": "code",
      "source": [],
      "metadata": {
        "id": "_Evbz2vDnNNz"
      },
      "execution_count": null,
      "outputs": []
    }
  ]
}