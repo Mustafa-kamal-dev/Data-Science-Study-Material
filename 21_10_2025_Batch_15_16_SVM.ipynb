{
  "nbformat": 4,
  "nbformat_minor": 0,
  "metadata": {
    "colab": {
      "provenance": []
    },
    "kernelspec": {
      "name": "python3",
      "display_name": "Python 3"
    },
    "language_info": {
      "name": "python"
    }
  },
  "cells": [
    {
      "cell_type": "code",
      "execution_count": null,
      "metadata": {
        "id": "DLr8O44CDsM_"
      },
      "outputs": [],
      "source": []
    },
    {
      "cell_type": "markdown",
      "source": [
        "SVM: Support Vector Machine: finds the best possible dividing line (boundary) between classes\n",
        "\n",
        "The line leaves a maximum safe distance between the line and the nearest data point on both sides. this safe distance is called the margin.\n",
        "\n",
        "Classification problems (Yes/No, Spam/Not Spam)\n",
        "Numeric data (can handle both small and large feature sets)\n",
        "\n",
        "Email spam filtering\n",
        "Face recognition\n",
        "Medical diagnosis\n",
        "credit card fraud detection\n",
        "works best when there's a clear separation between classes"
      ],
      "metadata": {
        "id": "DR1HgghoY16K"
      }
    },
    {
      "cell_type": "markdown",
      "source": [
        "Each feature (or column) = one dimension\n",
        "\n",
        "A hyperplane is the boundary thatseparates data\n",
        "in 2D it's a line\n",
        "in 3D it's a flat plane\n",
        "in higher dimestions we call it hyperplane\n"
      ],
      "metadata": {
        "id": "xyjIS8Nwah6l"
      }
    },
    {
      "cell_type": "markdown",
      "source": [
        "Support vectors are the closest points from each class to the dividing line\n",
        "\n",
        "they are the ones that define the position of the boundary\n",
        "if we remove SV, the line shifts\n",
        "If we remove others, the line barely changes\n",
        "\n",
        "if new data appears near the margin, model has low confidence in it\n",
        "\n",
        "if the new data appears far from the margin, the model i highly cocnfident"
      ],
      "metadata": {
        "id": "E5VyrZlgbNzU"
      }
    }
  ]
}