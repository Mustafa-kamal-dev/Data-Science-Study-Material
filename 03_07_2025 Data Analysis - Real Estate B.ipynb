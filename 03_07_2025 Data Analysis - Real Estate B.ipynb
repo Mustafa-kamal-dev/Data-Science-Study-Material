{
 "cells": [
  {
   "cell_type": "code",
   "execution_count": 23,
   "metadata": {
    "executionInfo": {
     "elapsed": 53,
     "status": "ok",
     "timestamp": 1751560719878,
     "user": {
      "displayName": "Mirza Anas Masood Baig",
      "userId": "16421231184284517890"
     },
     "user_tz": -300
    },
    "id": "K7CEend2IVha"
   },
   "outputs": [],
   "source": [
    "                             #Find Insights in the above data\n",
    "\n",
    "#Does proximity to MRT stations affect house prices?\n",
    "\n",
    "#Is there a correlation between number of convenience stores and house prices?\n",
    "\n",
    "#Does house age negatively impact price?\n",
    "\n",
    "#Are there any seasonal (monthly) patterns in house pricing?\n",
    "\n",
    "#What are the top 5 most expensive areas (based on latitude/longitude)"
   ]
  },
  {
   "cell_type": "code",
   "execution_count": 24,
   "metadata": {
    "executionInfo": {
     "elapsed": 1465,
     "status": "ok",
     "timestamp": 1751560761283,
     "user": {
      "displayName": "Mirza Anas Masood Baig",
      "userId": "16421231184284517890"
     },
     "user_tz": -300
    },
    "id": "695dSXXUJ4wv"
   },
   "outputs": [],
   "source": [
    "import numpy as np\n",
    "import pandas as pd\n",
    "import seaborn as sns\n",
    "import matplotlib.pyplot as plt"
   ]
  },
  {
   "cell_type": "code",
   "execution_count": 32,
   "metadata": {
    "colab": {
     "base_uri": "https://localhost:8080/",
     "height": 129
    },
    "executionInfo": {
     "elapsed": 132,
     "status": "ok",
     "timestamp": 1751560803256,
     "user": {
      "displayName": "Mirza Anas Masood Baig",
      "userId": "16421231184284517890"
     },
     "user_tz": -300
    },
    "id": "x9Ect10-KCf7",
    "outputId": "76a9474a-f858-486e-87b1-aeddec77f717"
   },
   "outputs": [
    {
     "data": {
      "text/html": [
       "<div>\n",
       "<style scoped>\n",
       "    .dataframe tbody tr th:only-of-type {\n",
       "        vertical-align: middle;\n",
       "    }\n",
       "\n",
       "    .dataframe tbody tr th {\n",
       "        vertical-align: top;\n",
       "    }\n",
       "\n",
       "    .dataframe thead th {\n",
       "        text-align: right;\n",
       "    }\n",
       "</style>\n",
       "<table border=\"1\" class=\"dataframe\">\n",
       "  <thead>\n",
       "    <tr style=\"text-align: right;\">\n",
       "      <th></th>\n",
       "      <th>No</th>\n",
       "      <th>X1 transaction date</th>\n",
       "      <th>X2 house age</th>\n",
       "      <th>X3 distance to the nearest MRT station</th>\n",
       "      <th>X4 number of convenience stores</th>\n",
       "      <th>X5 latitude</th>\n",
       "      <th>X6 longitude</th>\n",
       "      <th>Y house price of unit area</th>\n",
       "    </tr>\n",
       "  </thead>\n",
       "  <tbody>\n",
       "    <tr>\n",
       "      <th>0</th>\n",
       "      <td>1</td>\n",
       "      <td>2012.917</td>\n",
       "      <td>32.0</td>\n",
       "      <td>84.87882</td>\n",
       "      <td>10</td>\n",
       "      <td>24.98298</td>\n",
       "      <td>121.54024</td>\n",
       "      <td>37.9</td>\n",
       "    </tr>\n",
       "    <tr>\n",
       "      <th>1</th>\n",
       "      <td>2</td>\n",
       "      <td>2012.917</td>\n",
       "      <td>19.5</td>\n",
       "      <td>306.59470</td>\n",
       "      <td>9</td>\n",
       "      <td>24.98034</td>\n",
       "      <td>121.53951</td>\n",
       "      <td>42.2</td>\n",
       "    </tr>\n",
       "  </tbody>\n",
       "</table>\n",
       "</div>"
      ],
      "text/plain": [
       "   No  X1 transaction date  X2 house age  \\\n",
       "0   1             2012.917          32.0   \n",
       "1   2             2012.917          19.5   \n",
       "\n",
       "   X3 distance to the nearest MRT station  X4 number of convenience stores  \\\n",
       "0                                84.87882                               10   \n",
       "1                               306.59470                                9   \n",
       "\n",
       "   X5 latitude  X6 longitude  Y house price of unit area  \n",
       "0     24.98298     121.54024                        37.9  \n",
       "1     24.98034     121.53951                        42.2  "
      ]
     },
     "execution_count": 32,
     "metadata": {},
     "output_type": "execute_result"
    }
   ],
   "source": [
    "df = pd.read_csv('Real estate.csv')\n",
    "df.head(2)"
   ]
  },
  {
   "cell_type": "code",
   "execution_count": 38,
   "metadata": {
    "colab": {
     "base_uri": "https://localhost:8080/",
     "height": 112
    },
    "executionInfo": {
     "elapsed": 52,
     "status": "ok",
     "timestamp": 1751561057775,
     "user": {
      "displayName": "Mirza Anas Masood Baig",
      "userId": "16421231184284517890"
     },
     "user_tz": -300
    },
    "id": "w35U2UOdKK8g",
    "outputId": "d5ca6465-b592-41c9-ab93-535461ca6f94"
   },
   "outputs": [
    {
     "data": {
      "text/html": [
       "<div>\n",
       "<style scoped>\n",
       "    .dataframe tbody tr th:only-of-type {\n",
       "        vertical-align: middle;\n",
       "    }\n",
       "\n",
       "    .dataframe tbody tr th {\n",
       "        vertical-align: top;\n",
       "    }\n",
       "\n",
       "    .dataframe thead th {\n",
       "        text-align: right;\n",
       "    }\n",
       "</style>\n",
       "<table border=\"1\" class=\"dataframe\">\n",
       "  <thead>\n",
       "    <tr style=\"text-align: right;\">\n",
       "      <th></th>\n",
       "      <th>No</th>\n",
       "      <th>TransactionDate</th>\n",
       "      <th>HouseAge</th>\n",
       "      <th>DistanceToNearestMRTStation</th>\n",
       "      <th>NumberOfConvenienceStores</th>\n",
       "      <th>Latitude</th>\n",
       "      <th>Longitude</th>\n",
       "      <th>HousePriceOfUnitArea</th>\n",
       "    </tr>\n",
       "  </thead>\n",
       "  <tbody>\n",
       "    <tr>\n",
       "      <th>0</th>\n",
       "      <td>1</td>\n",
       "      <td>2012.917</td>\n",
       "      <td>32.0</td>\n",
       "      <td>84.87882</td>\n",
       "      <td>10</td>\n",
       "      <td>24.98298</td>\n",
       "      <td>121.54024</td>\n",
       "      <td>37.9</td>\n",
       "    </tr>\n",
       "    <tr>\n",
       "      <th>1</th>\n",
       "      <td>2</td>\n",
       "      <td>2012.917</td>\n",
       "      <td>19.5</td>\n",
       "      <td>306.59470</td>\n",
       "      <td>9</td>\n",
       "      <td>24.98034</td>\n",
       "      <td>121.53951</td>\n",
       "      <td>42.2</td>\n",
       "    </tr>\n",
       "  </tbody>\n",
       "</table>\n",
       "</div>"
      ],
      "text/plain": [
       "   No  TransactionDate  HouseAge  DistanceToNearestMRTStation  \\\n",
       "0   1         2012.917      32.0                     84.87882   \n",
       "1   2         2012.917      19.5                    306.59470   \n",
       "\n",
       "   NumberOfConvenienceStores  Latitude  Longitude  HousePriceOfUnitArea  \n",
       "0                         10  24.98298  121.54024                  37.9  \n",
       "1                          9  24.98034  121.53951                  42.2  "
      ]
     },
     "execution_count": 38,
     "metadata": {},
     "output_type": "execute_result"
    }
   ],
   "source": [
    "df.rename(columns={\n",
    "    'X1 transaction date': 'TransactionDate',\n",
    "    'X2 house age': 'HouseAge',\n",
    "    'X3 distance to the nearest MRT station': 'DistanceToNearestMRTStation',\n",
    "    'X4 number of convenience stores': 'NumberOfConvenienceStores',\n",
    "    'X5 latitude': 'Latitude',\n",
    "    'X6 longitude': 'Longitude',\n",
    "    'Y house price of unit area': 'HousePriceOfUnitArea'\n",
    "    }, inplace=True)\n",
    "df.head(2)"
   ]
  },
  {
   "cell_type": "code",
   "execution_count": 45,
   "metadata": {
    "colab": {
     "base_uri": "https://localhost:8080/"
    },
    "executionInfo": {
     "elapsed": 83,
     "status": "ok",
     "timestamp": 1751561197111,
     "user": {
      "displayName": "Mirza Anas Masood Baig",
      "userId": "16421231184284517890"
     },
     "user_tz": -300
    },
    "id": "h2XUII-4LLP8",
    "outputId": "fb9db245-8d88-41e1-a96b-038732d4529f"
   },
   "outputs": [
    {
     "name": "stdout",
     "output_type": "stream",
     "text": [
      "Correlation between distance to nearest MRT station and house price of unit area: -0.6736128553689186\n"
     ]
    }
   ],
   "source": [
    "#Does proximity to MRT stations affect house prices?\n",
    "\n",
    "print(\"Correlation between distance to nearest MRT station and house price of unit area:\", df['DistanceToNearestMRTStation'].corr(df['HousePriceOfUnitArea']))"
   ]
  },
  {
   "cell_type": "code",
   "execution_count": 52,
   "metadata": {
    "colab": {
     "base_uri": "https://localhost:8080/",
     "height": 472
    },
    "executionInfo": {
     "elapsed": 454,
     "status": "ok",
     "timestamp": 1751561767690,
     "user": {
      "displayName": "Mirza Anas Masood Baig",
      "userId": "16421231184284517890"
     },
     "user_tz": -300
    },
    "id": "TOXyx3rdLtRi",
    "outputId": "f666ace7-9a92-4786-f328-8625d4fc1376"
   },
   "outputs": [
    {
     "data": {
      "image/png": "[encoded data removed]",
      "text/plain": [
       "<Figure size 640x480 with 1 Axes>"
      ]
     },
     "metadata": {},
     "output_type": "display_data"
    }
   ],
   "source": [
    "sns.scatterplot(x='DistanceToNearestMRTStation' , y='HousePriceOfUnitArea', data=df)\n",
    "plt.title('Distance to Nearest MRT Station vs House Price of Unit Area')\n",
    "plt.xlabel('Distance to  MRT Station (m)')\n",
    "plt.ylabel('House price ')\n",
    "plt.show()"
   ]
  },
  {
   "cell_type": "code",
   "execution_count": 29,
   "metadata": {
    "executionInfo": {
     "elapsed": 42,
     "status": "ok",
     "timestamp": 1751562372955,
     "user": {
      "displayName": "Mirza Anas Masood Baig",
      "userId": "16421231184284517890"
     },
     "user_tz": -300
    },
    "id": "NztdmIyCN4dd"
   },
   "outputs": [],
   "source": [
    "#Does house age negatively impact price?"
   ]
  },
  {
   "cell_type": "code",
   "execution_count": 30,
   "metadata": {
    "executionInfo": {
     "elapsed": 30,
     "status": "ok",
     "timestamp": 1751562553201,
     "user": {
      "displayName": "Mirza Anas Masood Baig",
      "userId": "16421231184284517890"
     },
     "user_tz": -300
    },
    "id": "qQkSWA3uQMXf"
   },
   "outputs": [],
   "source": [
    "#Are there any seasonal (monthly) patterns in house pricing?"
   ]
  },
  {
   "cell_type": "code",
   "execution_count": 31,
   "metadata": {
    "colab": {
     "base_uri": "https://localhost:8080/",
     "height": 112
    },
    "executionInfo": {
     "elapsed": 32,
     "status": "ok",
     "timestamp": 1751562560685,
     "user": {
      "displayName": "Mirza Anas Masood Baig",
      "userId": "16421231184284517890"
     },
     "user_tz": -300
    },
    "id": "7QkmSjYRQ4Xs",
    "outputId": "8dc9757d-16c9-47c7-8115-d8155ae9917f"
   },
   "outputs": [
    {
     "data": {
      "text/html": [
       "<div>\n",
       "<style scoped>\n",
       "    .dataframe tbody tr th:only-of-type {\n",
       "        vertical-align: middle;\n",
       "    }\n",
       "\n",
       "    .dataframe tbody tr th {\n",
       "        vertical-align: top;\n",
       "    }\n",
       "\n",
       "    .dataframe thead th {\n",
       "        text-align: right;\n",
       "    }\n",
       "</style>\n",
       "<table border=\"1\" class=\"dataframe\">\n",
       "  <thead>\n",
       "    <tr style=\"text-align: right;\">\n",
       "      <th></th>\n",
       "      <th>No</th>\n",
       "      <th>TransactionDate</th>\n",
       "      <th>HouseAge</th>\n",
       "      <th>DistanceToNearestMRTStation</th>\n",
       "      <th>NumberOfConvenienceStores</th>\n",
       "      <th>Latitude</th>\n",
       "      <th>Longitude</th>\n",
       "      <th>HousePriceOfUnitArea</th>\n",
       "    </tr>\n",
       "  </thead>\n",
       "  <tbody>\n",
       "    <tr>\n",
       "      <th>0</th>\n",
       "      <td>1</td>\n",
       "      <td>2012.917</td>\n",
       "      <td>32.0</td>\n",
       "      <td>84.87882</td>\n",
       "      <td>10</td>\n",
       "      <td>24.98298</td>\n",
       "      <td>121.54024</td>\n",
       "      <td>37.9</td>\n",
       "    </tr>\n",
       "    <tr>\n",
       "      <th>1</th>\n",
       "      <td>2</td>\n",
       "      <td>2012.917</td>\n",
       "      <td>19.5</td>\n",
       "      <td>306.59470</td>\n",
       "      <td>9</td>\n",
       "      <td>24.98034</td>\n",
       "      <td>121.53951</td>\n",
       "      <td>42.2</td>\n",
       "    </tr>\n",
       "  </tbody>\n",
       "</table>\n",
       "</div>"
      ],
      "text/plain": [
       "   No  TransactionDate  HouseAge  DistanceToNearestMRTStation  \\\n",
       "0   1         2012.917      32.0                     84.87882   \n",
       "1   2         2012.917      19.5                    306.59470   \n",
       "\n",
       "   NumberOfConvenienceStores  Latitude  Longitude  HousePriceOfUnitArea  \n",
       "0                         10  24.98298  121.54024                  37.9  \n",
       "1                          9  24.98034  121.53951                  42.2  "
      ]
     },
     "execution_count": 31,
     "metadata": {},
     "output_type": "execute_result"
    }
   ],
   "source": [
    "df.head(2)"
   ]
  },
  {
   "cell_type": "code",
   "execution_count": null,
   "metadata": {
    "id": "089JMAE0Q6MS"
   },
   "outputs": [],
   "source": []
  }
 ],
 "metadata": {
  "colab": {
   "authorship_tag": "ABX9TyMJcaSRGVTV9fbCSRuyKcvN",
   "provenance": []
  },
  "kernelspec": {
   "display_name": "Python 3",
   "name": "python3"
  },
  "language_info": {
   "codemirror_mode": {
    "name": "ipython",
    "version": 3
   },
   "file_extension": ".py",
   "mimetype": "text/x-python",
   "name": "python",
   "nbconvert_exporter": "python",
   "pygments_lexer": "ipython3",
   "version": "3.13.3"
  }
 },
 "nbformat": 4,
 "nbformat_minor": 0
}
